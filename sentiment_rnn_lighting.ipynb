{
  "nbformat": 4,
  "nbformat_minor": 0,
  "metadata": {
    "colab": {
      "provenance": [],
      "authorship_tag": "ABX9TyMWyNZAHBAGKu0mnq5hrdWL",
      "include_colab_link": true
    },
    "kernelspec": {
      "name": "python3",
      "display_name": "Python 3"
    },
    "language_info": {
      "name": "python"
    }
  },
  "cells": [
    {
      "cell_type": "markdown",
      "metadata": {
        "id": "view-in-github",
        "colab_type": "text"
      },
      "source": [
        "<a href=\"https://colab.research.google.com/github/gupta24789/sentiment-analysis/blob/main/sentiment_rnn_lighting.ipynb\" target=\"_parent\"><img src=\"https://colab.research.google.com/assets/colab-badge.svg\" alt=\"Open In Colab\"/></a>"
      ]
    },
    {
      "cell_type": "code",
      "execution_count": 4,
      "metadata": {
        "colab": {
          "base_uri": "https://localhost:8080/"
        },
        "id": "ea5zmF6_M9p1",
        "outputId": "591fc7b7-1f88-4e0f-a413-a05f233db77d"
      },
      "outputs": [
        {
          "output_type": "stream",
          "name": "stdout",
          "text": [
            "\u001b[2K     \u001b[90m━━━━━━━━━━━━━━━━━━━━━━━━━━━━━━━━━━━━━━━━\u001b[0m \u001b[32m2.0/2.0 MB\u001b[0m \u001b[31m7.4 MB/s\u001b[0m eta \u001b[36m0:00:00\u001b[0m\n",
            "\u001b[2K     \u001b[90m━━━━━━━━━━━━━━━━━━━━━━━━━━━━━━━━━━━━━━━━\u001b[0m \u001b[32m840.2/840.2 kB\u001b[0m \u001b[31m10.7 MB/s\u001b[0m eta \u001b[36m0:00:00\u001b[0m\n",
            "\u001b[2K     \u001b[90m━━━━━━━━━━━━━━━━━━━━━━━━━━━━━━━━━━━━━━━━\u001b[0m \u001b[32m777.7/777.7 kB\u001b[0m \u001b[31m34.8 MB/s\u001b[0m eta \u001b[36m0:00:00\u001b[0m\n",
            "\u001b[2K     \u001b[90m━━━━━━━━━━━━━━━━━━━━━━━━━━━━━━━━━━━━━━━━\u001b[0m \u001b[32m114.7/114.7 kB\u001b[0m \u001b[31m2.4 MB/s\u001b[0m eta \u001b[36m0:00:00\u001b[0m\n",
            "\u001b[?25h"
          ]
        }
      ],
      "source": [
        "!pip install -q lightning\n",
        "!pip install -q neattext"
      ]
    },
    {
      "cell_type": "code",
      "source": [
        "import pandas as pd\n",
        "import numpy as np\n",
        "import neattext as nt\n",
        "import itertools\n",
        "import warnings\n",
        "\n",
        "import torch\n",
        "import torch.nn as nn\n",
        "import torch.nn.functional as F\n",
        "from torch import optim\n",
        "from torch.nn.utils.rnn import  pad_sequence\n",
        "from torch.utils.data import Dataset, DataLoader, TensorDataset\n",
        "\n",
        "from torchmetrics import Accuracy\n",
        "import lightning as L\n",
        "from lightning.pytorch.loggers import CSVLogger\n",
        "from lightning.pytorch.callbacks import ModelCheckpoint\n",
        "\n",
        "warnings.filterwarnings('ignore')"
      ],
      "metadata": {
        "id": "j7Op1D2LNGMk"
      },
      "execution_count": 5,
      "outputs": []
    },
    {
      "cell_type": "code",
      "source": [
        "train_df = pd.read_csv(\"https://raw.githubusercontent.com/gupta24789/sentiment-analysis/main/data/train.csv\")\n",
        "val_df = pd.read_csv(\"https://raw.githubusercontent.com/gupta24789/sentiment-analysis/main/data/val.csv\")\n",
        "\n",
        "train_df = train_df[['raw_tweet', 'label']].dropna().reset_index(drop = True)\n",
        "val_df = val_df[['raw_tweet', 'label']].dropna().reset_index(drop = True)"
      ],
      "metadata": {
        "id": "nYb0hgiKNeqY"
      },
      "execution_count": 6,
      "outputs": []
    },
    {
      "cell_type": "code",
      "source": [
        "## Clean the data\n",
        "def custom_clean_text(x):\n",
        "  x = nt.TextFrame(x)\n",
        "  x = x.remove_stopwords().remove_urls().remove_emails().remove_dates().remove_puncts().remove_numbers().remove_userhandles().remove_multiple_spaces()\n",
        "  x = x.text.lower()\n",
        "  return x\n",
        "\n",
        "train_df['processed_text'] = train_df.raw_tweet.apply(lambda x: custom_clean_text(x))\n",
        "val_df['processed_text'] = val_df.raw_tweet.apply(lambda x: custom_clean_text(x))"
      ],
      "metadata": {
        "id": "zv-MoNWWNe_P"
      },
      "execution_count": 7,
      "outputs": []
    },
    {
      "cell_type": "code",
      "source": [
        "train_df.head(4)"
      ],
      "metadata": {
        "colab": {
          "base_uri": "https://localhost:8080/",
          "height": 174
        },
        "id": "UHHjo5r4NjO3",
        "outputId": "eda95364-7c33-470e-e681-f4845eaf08be"
      },
      "execution_count": 8,
      "outputs": [
        {
          "output_type": "execute_result",
          "data": {
            "text/plain": [
              "                                           raw_tweet  label  \\\n",
              "0  Want to say a huge thanks to @WarriorAssaultS ...    1.0   \n",
              "1  @jaynehh_ you just need a job and get a letter...    1.0   \n",
              "2          @knhillrocks HA yes, make it quick tho :D    1.0   \n",
              "3  @shartyboy Thanks for texting me back :)) I'm ...    1.0   \n",
              "\n",
              "                                      processed_text  \n",
              "0             want huge thanks #ff thanks support :)  \n",
              "1   need job letter work place saying work letter...  \n",
              "2                                ha yes quick tho :d  \n",
              "3         thanks texting :)) im texting tomorrow :))  "
            ],
            "text/html": [
              "\n",
              "  <div id=\"df-3e6fe072-0f75-4731-b82d-43591fd60330\" class=\"colab-df-container\">\n",
              "    <div>\n",
              "<style scoped>\n",
              "    .dataframe tbody tr th:only-of-type {\n",
              "        vertical-align: middle;\n",
              "    }\n",
              "\n",
              "    .dataframe tbody tr th {\n",
              "        vertical-align: top;\n",
              "    }\n",
              "\n",
              "    .dataframe thead th {\n",
              "        text-align: right;\n",
              "    }\n",
              "</style>\n",
              "<table border=\"1\" class=\"dataframe\">\n",
              "  <thead>\n",
              "    <tr style=\"text-align: right;\">\n",
              "      <th></th>\n",
              "      <th>raw_tweet</th>\n",
              "      <th>label</th>\n",
              "      <th>processed_text</th>\n",
              "    </tr>\n",
              "  </thead>\n",
              "  <tbody>\n",
              "    <tr>\n",
              "      <th>0</th>\n",
              "      <td>Want to say a huge thanks to @WarriorAssaultS ...</td>\n",
              "      <td>1.0</td>\n",
              "      <td>want huge thanks #ff thanks support :)</td>\n",
              "    </tr>\n",
              "    <tr>\n",
              "      <th>1</th>\n",
              "      <td>@jaynehh_ you just need a job and get a letter...</td>\n",
              "      <td>1.0</td>\n",
              "      <td>need job letter work place saying work letter...</td>\n",
              "    </tr>\n",
              "    <tr>\n",
              "      <th>2</th>\n",
              "      <td>@knhillrocks HA yes, make it quick tho :D</td>\n",
              "      <td>1.0</td>\n",
              "      <td>ha yes quick tho :d</td>\n",
              "    </tr>\n",
              "    <tr>\n",
              "      <th>3</th>\n",
              "      <td>@shartyboy Thanks for texting me back :)) I'm ...</td>\n",
              "      <td>1.0</td>\n",
              "      <td>thanks texting :)) im texting tomorrow :))</td>\n",
              "    </tr>\n",
              "  </tbody>\n",
              "</table>\n",
              "</div>\n",
              "    <div class=\"colab-df-buttons\">\n",
              "\n",
              "  <div class=\"colab-df-container\">\n",
              "    <button class=\"colab-df-convert\" onclick=\"convertToInteractive('df-3e6fe072-0f75-4731-b82d-43591fd60330')\"\n",
              "            title=\"Convert this dataframe to an interactive table.\"\n",
              "            style=\"display:none;\">\n",
              "\n",
              "  <svg xmlns=\"http://www.w3.org/2000/svg\" height=\"24px\" viewBox=\"0 -960 960 960\">\n",
              "    <path d=\"M120-120v-720h720v720H120Zm60-500h600v-160H180v160Zm220 220h160v-160H400v160Zm0 220h160v-160H400v160ZM180-400h160v-160H180v160Zm440 0h160v-160H620v160ZM180-180h160v-160H180v160Zm440 0h160v-160H620v160Z\"/>\n",
              "  </svg>\n",
              "    </button>\n",
              "\n",
              "  <style>\n",
              "    .colab-df-container {\n",
              "      display:flex;\n",
              "      gap: 12px;\n",
              "    }\n",
              "\n",
              "    .colab-df-convert {\n",
              "      background-color: #E8F0FE;\n",
              "      border: none;\n",
              "      border-radius: 50%;\n",
              "      cursor: pointer;\n",
              "      display: none;\n",
              "      fill: #1967D2;\n",
              "      height: 32px;\n",
              "      padding: 0 0 0 0;\n",
              "      width: 32px;\n",
              "    }\n",
              "\n",
              "    .colab-df-convert:hover {\n",
              "      background-color: #E2EBFA;\n",
              "      box-shadow: 0px 1px 2px rgba(60, 64, 67, 0.3), 0px 1px 3px 1px rgba(60, 64, 67, 0.15);\n",
              "      fill: #174EA6;\n",
              "    }\n",
              "\n",
              "    .colab-df-buttons div {\n",
              "      margin-bottom: 4px;\n",
              "    }\n",
              "\n",
              "    [theme=dark] .colab-df-convert {\n",
              "      background-color: #3B4455;\n",
              "      fill: #D2E3FC;\n",
              "    }\n",
              "\n",
              "    [theme=dark] .colab-df-convert:hover {\n",
              "      background-color: #434B5C;\n",
              "      box-shadow: 0px 1px 3px 1px rgba(0, 0, 0, 0.15);\n",
              "      filter: drop-shadow(0px 1px 2px rgba(0, 0, 0, 0.3));\n",
              "      fill: #FFFFFF;\n",
              "    }\n",
              "  </style>\n",
              "\n",
              "    <script>\n",
              "      const buttonEl =\n",
              "        document.querySelector('#df-3e6fe072-0f75-4731-b82d-43591fd60330 button.colab-df-convert');\n",
              "      buttonEl.style.display =\n",
              "        google.colab.kernel.accessAllowed ? 'block' : 'none';\n",
              "\n",
              "      async function convertToInteractive(key) {\n",
              "        const element = document.querySelector('#df-3e6fe072-0f75-4731-b82d-43591fd60330');\n",
              "        const dataTable =\n",
              "          await google.colab.kernel.invokeFunction('convertToInteractive',\n",
              "                                                    [key], {});\n",
              "        if (!dataTable) return;\n",
              "\n",
              "        const docLinkHtml = 'Like what you see? Visit the ' +\n",
              "          '<a target=\"_blank\" href=https://colab.research.google.com/notebooks/data_table.ipynb>data table notebook</a>'\n",
              "          + ' to learn more about interactive tables.';\n",
              "        element.innerHTML = '';\n",
              "        dataTable['output_type'] = 'display_data';\n",
              "        await google.colab.output.renderOutput(dataTable, element);\n",
              "        const docLink = document.createElement('div');\n",
              "        docLink.innerHTML = docLinkHtml;\n",
              "        element.appendChild(docLink);\n",
              "      }\n",
              "    </script>\n",
              "  </div>\n",
              "\n",
              "\n",
              "<div id=\"df-3934e6f9-df73-4b70-889d-2141f005e2b2\">\n",
              "  <button class=\"colab-df-quickchart\" onclick=\"quickchart('df-3934e6f9-df73-4b70-889d-2141f005e2b2')\"\n",
              "            title=\"Suggest charts\"\n",
              "            style=\"display:none;\">\n",
              "\n",
              "<svg xmlns=\"http://www.w3.org/2000/svg\" height=\"24px\"viewBox=\"0 0 24 24\"\n",
              "     width=\"24px\">\n",
              "    <g>\n",
              "        <path d=\"M19 3H5c-1.1 0-2 .9-2 2v14c0 1.1.9 2 2 2h14c1.1 0 2-.9 2-2V5c0-1.1-.9-2-2-2zM9 17H7v-7h2v7zm4 0h-2V7h2v10zm4 0h-2v-4h2v4z\"/>\n",
              "    </g>\n",
              "</svg>\n",
              "  </button>\n",
              "\n",
              "<style>\n",
              "  .colab-df-quickchart {\n",
              "      --bg-color: #E8F0FE;\n",
              "      --fill-color: #1967D2;\n",
              "      --hover-bg-color: #E2EBFA;\n",
              "      --hover-fill-color: #174EA6;\n",
              "      --disabled-fill-color: #AAA;\n",
              "      --disabled-bg-color: #DDD;\n",
              "  }\n",
              "\n",
              "  [theme=dark] .colab-df-quickchart {\n",
              "      --bg-color: #3B4455;\n",
              "      --fill-color: #D2E3FC;\n",
              "      --hover-bg-color: #434B5C;\n",
              "      --hover-fill-color: #FFFFFF;\n",
              "      --disabled-bg-color: #3B4455;\n",
              "      --disabled-fill-color: #666;\n",
              "  }\n",
              "\n",
              "  .colab-df-quickchart {\n",
              "    background-color: var(--bg-color);\n",
              "    border: none;\n",
              "    border-radius: 50%;\n",
              "    cursor: pointer;\n",
              "    display: none;\n",
              "    fill: var(--fill-color);\n",
              "    height: 32px;\n",
              "    padding: 0;\n",
              "    width: 32px;\n",
              "  }\n",
              "\n",
              "  .colab-df-quickchart:hover {\n",
              "    background-color: var(--hover-bg-color);\n",
              "    box-shadow: 0 1px 2px rgba(60, 64, 67, 0.3), 0 1px 3px 1px rgba(60, 64, 67, 0.15);\n",
              "    fill: var(--button-hover-fill-color);\n",
              "  }\n",
              "\n",
              "  .colab-df-quickchart-complete:disabled,\n",
              "  .colab-df-quickchart-complete:disabled:hover {\n",
              "    background-color: var(--disabled-bg-color);\n",
              "    fill: var(--disabled-fill-color);\n",
              "    box-shadow: none;\n",
              "  }\n",
              "\n",
              "  .colab-df-spinner {\n",
              "    border: 2px solid var(--fill-color);\n",
              "    border-color: transparent;\n",
              "    border-bottom-color: var(--fill-color);\n",
              "    animation:\n",
              "      spin 1s steps(1) infinite;\n",
              "  }\n",
              "\n",
              "  @keyframes spin {\n",
              "    0% {\n",
              "      border-color: transparent;\n",
              "      border-bottom-color: var(--fill-color);\n",
              "      border-left-color: var(--fill-color);\n",
              "    }\n",
              "    20% {\n",
              "      border-color: transparent;\n",
              "      border-left-color: var(--fill-color);\n",
              "      border-top-color: var(--fill-color);\n",
              "    }\n",
              "    30% {\n",
              "      border-color: transparent;\n",
              "      border-left-color: var(--fill-color);\n",
              "      border-top-color: var(--fill-color);\n",
              "      border-right-color: var(--fill-color);\n",
              "    }\n",
              "    40% {\n",
              "      border-color: transparent;\n",
              "      border-right-color: var(--fill-color);\n",
              "      border-top-color: var(--fill-color);\n",
              "    }\n",
              "    60% {\n",
              "      border-color: transparent;\n",
              "      border-right-color: var(--fill-color);\n",
              "    }\n",
              "    80% {\n",
              "      border-color: transparent;\n",
              "      border-right-color: var(--fill-color);\n",
              "      border-bottom-color: var(--fill-color);\n",
              "    }\n",
              "    90% {\n",
              "      border-color: transparent;\n",
              "      border-bottom-color: var(--fill-color);\n",
              "    }\n",
              "  }\n",
              "</style>\n",
              "\n",
              "  <script>\n",
              "    async function quickchart(key) {\n",
              "      const quickchartButtonEl =\n",
              "        document.querySelector('#' + key + ' button');\n",
              "      quickchartButtonEl.disabled = true;  // To prevent multiple clicks.\n",
              "      quickchartButtonEl.classList.add('colab-df-spinner');\n",
              "      try {\n",
              "        const charts = await google.colab.kernel.invokeFunction(\n",
              "            'suggestCharts', [key], {});\n",
              "      } catch (error) {\n",
              "        console.error('Error during call to suggestCharts:', error);\n",
              "      }\n",
              "      quickchartButtonEl.classList.remove('colab-df-spinner');\n",
              "      quickchartButtonEl.classList.add('colab-df-quickchart-complete');\n",
              "    }\n",
              "    (() => {\n",
              "      let quickchartButtonEl =\n",
              "        document.querySelector('#df-3934e6f9-df73-4b70-889d-2141f005e2b2 button');\n",
              "      quickchartButtonEl.style.display =\n",
              "        google.colab.kernel.accessAllowed ? 'block' : 'none';\n",
              "    })();\n",
              "  </script>\n",
              "</div>\n",
              "\n",
              "    </div>\n",
              "  </div>\n"
            ]
          },
          "metadata": {},
          "execution_count": 8
        }
      ]
    },
    {
      "cell_type": "code",
      "source": [
        "X_train = train_df.processed_text\n",
        "y_train = train_df.label\n",
        "\n",
        "X_val = val_df.processed_text\n",
        "y_val = val_df.label"
      ],
      "metadata": {
        "id": "cx_TtIDwNkYY"
      },
      "execution_count": 9,
      "outputs": []
    },
    {
      "cell_type": "markdown",
      "source": [
        "## Create Vocab"
      ],
      "metadata": {
        "id": "8Qz8vupTNugM"
      }
    },
    {
      "cell_type": "code",
      "source": [
        "special_tokens = ['__PAD__','__UNK__']\n",
        "words = list(set(itertools.chain.from_iterable(train_df.processed_text.apply(lambda x: x.split(\" \")))))\n",
        "words = special_tokens +  words\n",
        "token2idx = {w:i for i,w in enumerate(words)}\n",
        "idx2tokens = {i:w for i,w in enumerate(words)}\n",
        "print(f\"vocab size : {len(token2idx)}\")"
      ],
      "metadata": {
        "colab": {
          "base_uri": "https://localhost:8080/"
        },
        "id": "mpZTxFcCNllF",
        "outputId": "ec2bd16f-70a6-47fd-9035-1bc6a493e21a"
      },
      "execution_count": 10,
      "outputs": [
        {
          "output_type": "stream",
          "name": "stdout",
          "text": [
            "vocab size : 11332\n"
          ]
        }
      ]
    },
    {
      "cell_type": "markdown",
      "source": [
        "## Convert words to numbers"
      ],
      "metadata": {
        "id": "hR_sLAgmNzib"
      }
    },
    {
      "cell_type": "code",
      "source": [
        "def convert_token_to_number(tweet, verbose = False):\n",
        "  unk_token_id = token2idx['__UNK__']\n",
        "  encoded_tweet = []\n",
        "\n",
        "  if verbose:\n",
        "    print(f\"UNK TOKEN ID : {unk_token_id}\")\n",
        "    print(f\"RAW TWEET : {tweet}\")\n",
        "\n",
        "  for w in tweet.split(\" \"):\n",
        "    if w in token2idx:\n",
        "      encoded_tweet.append(token2idx[w])\n",
        "    else:\n",
        "      encoded_tweet.append(unk_token_id)\n",
        "\n",
        "  return encoded_tweet"
      ],
      "metadata": {
        "id": "BKtiLN25NsbS"
      },
      "execution_count": 11,
      "outputs": []
    },
    {
      "cell_type": "code",
      "source": [
        "X_train_encoded = X_train.apply(lambda x: convert_token_to_number(x))\n",
        "X_val_encoded = X_val.apply(lambda x: convert_token_to_number(x))"
      ],
      "metadata": {
        "id": "HtW667K4N1J0"
      },
      "execution_count": 12,
      "outputs": []
    },
    {
      "cell_type": "code",
      "source": [
        "def data_collator(batch):\n",
        "  features = [torch.tensor(item[0]) for item in batch]\n",
        "  labels = torch.tensor([item[1] for item in batch], dtype = torch.float32)\n",
        "\n",
        "  features = pad_sequence(features, batch_first=True, padding_value= token2idx['__PAD__'])\n",
        "\n",
        "  return (features, labels)"
      ],
      "metadata": {
        "id": "AkgrSZExN2LX"
      },
      "execution_count": 13,
      "outputs": []
    },
    {
      "cell_type": "code",
      "source": [
        "batch_size = 32\n",
        "train_dl = DataLoader(list(zip(X_train_encoded, y_train)), batch_size = batch_size, shuffle = True, collate_fn = data_collator)\n",
        "val_dl = DataLoader(list(zip(X_val_encoded, y_val)), batch_size = batch_size, shuffle = False, collate_fn = data_collator)"
      ],
      "metadata": {
        "id": "27oWgT0gN3X8"
      },
      "execution_count": 14,
      "outputs": []
    },
    {
      "cell_type": "code",
      "source": [
        "example = next(iter(train_dl))\n",
        "features, labels = example[0], example[1]\n",
        "features.shape, labels.shape"
      ],
      "metadata": {
        "colab": {
          "base_uri": "https://localhost:8080/"
        },
        "id": "NBtJNV0cN4ca",
        "outputId": "a8df37af-7a94-4f59-fc77-0d4426c271cd"
      },
      "execution_count": 15,
      "outputs": [
        {
          "output_type": "execute_result",
          "data": {
            "text/plain": [
              "(torch.Size([32, 14]), torch.Size([32]))"
            ]
          },
          "metadata": {},
          "execution_count": 15
        }
      ]
    },
    {
      "cell_type": "markdown",
      "source": [
        "## RNN\n",
        "\n",
        "The RNN returns 2 tensors\n",
        "  - output\n",
        "  - hidden\n",
        "\n",
        "```  \n",
        "output shape : [batch size, sentence length, hidden dim]\n",
        "hidden shape : [batch size, num_of_rnn_layers, hidden dim]\n",
        "```\n",
        "\n",
        "output is the concatenation of the hidden state from every time step, whereas hidden is simply the final hidden state."
      ],
      "metadata": {
        "id": "fG17pE_yN7sq"
      }
    },
    {
      "cell_type": "code",
      "source": [
        "class RNNModel(L.LightningModule):\n",
        "\n",
        "  def __init__(self, vocab_size , emb_dim, hidden_dim, num_classes, learning_rate, dropout, num_layers, is_bidirectional = True):\n",
        "    super().__init__()\n",
        "    ## define variable\n",
        "    self.learning_rate = learning_rate\n",
        "\n",
        "    ## define layers\n",
        "    self.embedding = nn.Embedding(num_embeddings= vocab_size, embedding_dim= emb_dim)\n",
        "    if is_bidirectional:\n",
        "      self.rnn = nn.RNN(emb_dim, hidden_dim // 2,batch_first=True, dropout = dropout, num_layers = num_layers, bidirectional= is_bidirectional)\n",
        "    else:\n",
        "      self.rnn = nn.RNN(emb_dim, hidden_dim,batch_first=True, dropout = dropout, num_layers = num_layers, bidirectional= is_bidirectional)\n",
        "\n",
        "    self.linear = nn.Linear(hidden_dim, num_classes)\n",
        "    self.sigmoid = nn.Sigmoid()\n",
        "\n",
        "\n",
        "    ## loss & metrics\n",
        "    self.loss_fn = nn.BCELoss()\n",
        "    self.train_accuracy = Accuracy(task = 'binary', num_classes= 2, threshold = 0.5)\n",
        "    self.val_accuracy = Accuracy(task = 'binary', num_classes = 2, threshold= 0.5)\n",
        "\n",
        "\n",
        "\n",
        "  def forward(self, features, verbose = False):\n",
        "    \"\"\"\n",
        "    \"\"\"\n",
        "    emb_out = self.embedding(features)\n",
        "    out, hidden = self.rnn(emb_out)\n",
        "    squeezed_out = torch.mean(out, dim =1)\n",
        "    linear_out = self.linear(squeezed_out)\n",
        "    sigmoid_out = self.sigmoid(linear_out)\n",
        "\n",
        "    if verbose:\n",
        "      print(f\"Input shape : {features.shape}\")\n",
        "      print(f\"EMB shape : {emb_out.shape}\")\n",
        "      print(f\"RNN out shape : {out.shape}\")\n",
        "      print(f\"RNN hidden shape : {hidden.shape}\")\n",
        "      print(f\"RNN squeezed_out shape : {squeezed_out.shape}\")\n",
        "      print(f\"linear_out shape : {linear_out.shape}\")\n",
        "      print(f\"sigmoid_out shape : {sigmoid_out.shape}\")\n",
        "\n",
        "    return sigmoid_out\n",
        "\n",
        "\n",
        "  def training_step(self, batch, batch_idx):\n",
        "    features, labels = batch[0], batch[1]\n",
        "    logits = self(features)\n",
        "    logits = logits.squeeze(dim=1)\n",
        "    loss = self.loss_fn(logits, labels)\n",
        "    self.train_accuracy(logits, labels)\n",
        "    self.log_dict({\"train_loss\": loss, \"train_acc\": self.train_accuracy}, on_step = False, on_epoch = True, prog_bar = True)\n",
        "\n",
        "  def validation_step(self,batch, batch_idx):\n",
        "    features, labels = batch[0], batch[1]\n",
        "    logits = self(features)\n",
        "    logits = logits.squeeze(dim=1)\n",
        "    loss = self.loss_fn(logits, labels)\n",
        "    self.val_accuracy(logits, labels)\n",
        "    self.log_dict({\"val_loss\": loss, \"val_acc\":  self.val_accuracy}, on_step = False, on_epoch = True, prog_bar = True)\n",
        "\n",
        "  def on_train_epoch_end(self):\n",
        "    self.train_accuracy.reset()\n",
        "\n",
        "  def on_validation_epoch_end(self):\n",
        "    if self.current_epoch!=0:\n",
        "      print(f\"Epoch : {self.current_epoch} val accuracy : {self.val_accuracy.compute()}\")\n",
        "    self.val_accuracy.reset()\n",
        "\n",
        "  def configure_optimizers(self):\n",
        "    optimizer = optim.Adam(self.parameters(), lr = self.learning_rate)\n",
        "    return optimizer"
      ],
      "metadata": {
        "id": "CWFxoVioN5ic"
      },
      "execution_count": 16,
      "outputs": []
    },
    {
      "cell_type": "code",
      "source": [
        "## Test the model\n",
        "model = RNNModel(vocab_size=len(token2idx),emb_dim =100, hidden_dim = 64,\n",
        "                 num_classes = 1, learning_rate = .001, dropout = 0.2,\n",
        "                 num_layers = 1, is_bidirectional = False)\n",
        "\n",
        "logits = model(features, verbose = True)\n",
        "logits = logits.squeeze(dim=1)\n",
        "loss = model.loss_fn(logits, labels)\n",
        "print(f\"\\nLoss: {loss}\")"
      ],
      "metadata": {
        "colab": {
          "base_uri": "https://localhost:8080/"
        },
        "id": "xOQBqnP7N9bt",
        "outputId": "58707804-53d5-4ec0-9209-77de9cde76ee"
      },
      "execution_count": 17,
      "outputs": [
        {
          "output_type": "stream",
          "name": "stdout",
          "text": [
            "Input shape : torch.Size([32, 14])\n",
            "EMB shape : torch.Size([32, 14, 100])\n",
            "RNN out shape : torch.Size([32, 14, 64])\n",
            "RNN hidden shape : torch.Size([1, 32, 64])\n",
            "RNN squeezed_out shape : torch.Size([32, 64])\n",
            "linear_out shape : torch.Size([32, 1])\n",
            "sigmoid_out shape : torch.Size([32, 1])\n",
            "\n",
            "Loss: 0.6915666460990906\n"
          ]
        }
      ]
    },
    {
      "cell_type": "code",
      "source": [
        "# ## Build Trainer\n",
        "# model = RNNModel(vocab_size=len(token2idx),emb_dim =100, hidden_dim = 512,\n",
        "#                  num_classes = 1, learning_rate = .001, dropout = 0.25,\n",
        "#                  num_layers = 1, is_bidirectional=False)\n",
        "\n",
        "# ## logger\n",
        "# logger =  CSVLogger(\"logs\", name=\"sentiment_analysis\")\n",
        "\n",
        "# ## checkpoints\n",
        "# checkpoint_callback  = ModelCheckpoint(filename='{epoch}-{val_loss:.2f}-{val_accuracy:.2f}',\n",
        "#                                         every_n_epochs = 10,\n",
        "#                                         save_top_k = -1,\n",
        "#                                         monitor='val_loss',\n",
        "#                                       )\n",
        "\n",
        "\n",
        "# trainer = L.Trainer(accelerator=\"cpu\",\n",
        "#                      max_epochs = 5,\n",
        "#                      check_val_every_n_epoch=1,\n",
        "#                      callbacks=[checkpoint_callback],\n",
        "#                      logger=logger\n",
        "\n",
        "#                     )\n",
        "\n",
        "# ## Train the Model\n",
        "# trainer.fit(model, train_dl, val_dl)"
      ],
      "metadata": {
        "id": "ocIRX2chN-e6"
      },
      "execution_count": 20,
      "outputs": []
    },
    {
      "cell_type": "code",
      "source": [],
      "metadata": {
        "id": "ODpkB5IoOZyu"
      },
      "execution_count": null,
      "outputs": []
    }
  ]
}