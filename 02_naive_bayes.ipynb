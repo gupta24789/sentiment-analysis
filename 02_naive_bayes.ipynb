{
  "nbformat": 4,
  "nbformat_minor": 0,
  "metadata": {
    "colab": {
      "provenance": [],
      "authorship_tag": "ABX9TyPiRWlZ7nAxF+GcmHwuC2lh",
      "include_colab_link": true
    },
    "kernelspec": {
      "name": "python3",
      "display_name": "Python 3"
    },
    "language_info": {
      "name": "python"
    }
  },
  "cells": [
    {
      "cell_type": "markdown",
      "metadata": {
        "id": "view-in-github",
        "colab_type": "text"
      },
      "source": [
        "<a href=\"https://colab.research.google.com/github/gupta24789/sentiment-analysis/blob/main/02_naive_bayes.ipynb\" target=\"_parent\"><img src=\"https://colab.research.google.com/assets/colab-badge.svg\" alt=\"Open In Colab\"/></a>"
      ]
    },
    {
      "cell_type": "code",
      "execution_count": 1,
      "metadata": {
        "id": "-UsjS-3Wejt3"
      },
      "outputs": [],
      "source": [
        "import pandas as pd\n",
        "import numpy as np\n",
        "import itertools\n",
        "from collections import Counter"
      ]
    },
    {
      "cell_type": "markdown",
      "source": [
        "## Read Data"
      ],
      "metadata": {
        "id": "fRh4xuZogdDh"
      }
    },
    {
      "cell_type": "code",
      "source": [
        "train_df = pd.read_csv(\"https://raw.githubusercontent.com/gupta24789/sentiment-analysis/main/data/train.csv\")\n",
        "val_df = pd.read_csv(\"https://raw.githubusercontent.com/gupta24789/sentiment-analysis/main/data/val.csv\")\n",
        "\n",
        "train_df.processed_tweet = train_df.processed_tweet.fillna('[]').apply(lambda x: eval(x) if x is not None else [])\n",
        "val_df.processed_tweet = val_df.processed_tweet.fillna('[]').apply(lambda x: eval(x) if x is not None else [])"
      ],
      "metadata": {
        "id": "K3RmpXrMenY_"
      },
      "execution_count": 2,
      "outputs": []
    },
    {
      "cell_type": "code",
      "source": [
        "train_df.label.value_counts()"
      ],
      "metadata": {
        "colab": {
          "base_uri": "https://localhost:8080/"
        },
        "id": "MReCryM40kSO",
        "outputId": "e0242d8c-af1f-45d3-82fb-a8f6b28189a8"
      },
      "execution_count": 13,
      "outputs": [
        {
          "output_type": "execute_result",
          "data": {
            "text/plain": [
              "1.0    4000\n",
              "0.0    4000\n",
              "Name: label, dtype: int64"
            ]
          },
          "metadata": {},
          "execution_count": 13
        }
      ]
    },
    {
      "cell_type": "code",
      "source": [
        "val_df.label.value_counts()"
      ],
      "metadata": {
        "colab": {
          "base_uri": "https://localhost:8080/"
        },
        "id": "UxZiltUJ0mwE",
        "outputId": "091bcb49-11ca-463c-d19a-c97f861702f5"
      },
      "execution_count": 14,
      "outputs": [
        {
          "output_type": "execute_result",
          "data": {
            "text/plain": [
              "1    1000\n",
              "0    1000\n",
              "Name: label, dtype: int64"
            ]
          },
          "metadata": {},
          "execution_count": 14
        }
      ]
    },
    {
      "cell_type": "markdown",
      "source": [
        "## Create Word Freq by label"
      ],
      "metadata": {
        "id": "TiKZkjsogtrP"
      }
    },
    {
      "cell_type": "code",
      "source": [
        "pos_freq_dict = Counter(list(itertools.chain.from_iterable(train_df[train_df.label==1]['processed_tweet'].tolist())))\n",
        "pos_freq_dict.most_common(10)"
      ],
      "metadata": {
        "colab": {
          "base_uri": "https://localhost:8080/"
        },
        "id": "Z0Vth1hmg0MZ",
        "outputId": "05532c88-59fc-4816-d32c-812eb4d4991b"
      },
      "execution_count": 15,
      "outputs": [
        {
          "output_type": "execute_result",
          "data": {
            "text/plain": [
              "[(':)', 2866),\n",
              " (':-)', 530),\n",
              " ('thank', 507),\n",
              " (':d', 504),\n",
              " ('love', 322),\n",
              " ('follow', 306),\n",
              " ('...', 221),\n",
              " ('day', 193),\n",
              " ('good', 191),\n",
              " ('like', 186)]"
            ]
          },
          "metadata": {},
          "execution_count": 15
        }
      ]
    },
    {
      "cell_type": "code",
      "source": [
        "neg_freq_dict = Counter(list(itertools.chain.from_iterable(train_df[train_df.label==0]['processed_tweet'].tolist())))\n",
        "neg_freq_dict.most_common(10)"
      ],
      "metadata": {
        "colab": {
          "base_uri": "https://localhost:8080/"
        },
        "id": "k_JMHKFieusj",
        "outputId": "cae5d3f6-22b3-4078-82fd-d0a52e080904"
      },
      "execution_count": 16,
      "outputs": [
        {
          "output_type": "execute_result",
          "data": {
            "text/plain": [
              "[(':(', 3636),\n",
              " (':-(', 404),\n",
              " (\"i'm\", 293),\n",
              " ('...', 268),\n",
              " ('miss', 242),\n",
              " ('pleas', 219),\n",
              " ('follow', 202),\n",
              " ('want', 192),\n",
              " ('like', 190),\n",
              " ('get', 189)]"
            ]
          },
          "metadata": {},
          "execution_count": 16
        }
      ]
    },
    {
      "cell_type": "markdown",
      "source": [
        "## Create Features\n",
        "\n",
        "- pos_freq : sum of positive freq of all unique words in tweet\n",
        "- neg_freq : sum of negative freq of all unique words in the tweet"
      ],
      "metadata": {
        "id": "eVM7eUiehuKv"
      }
    },
    {
      "cell_type": "code",
      "source": [
        "train_df['pos_freq'] = train_df.processed_tweet.apply(lambda x: np.sum([pos_freq_dict.get(w,0) for w in set(x)]))\n",
        "train_df['neg_freq'] = train_df.processed_tweet.apply(lambda x: np.sum([neg_freq_dict.get(w,0) for w in set(x)]))\n",
        "\n",
        "val_df['pos_freq'] = val_df.processed_tweet.apply(lambda x: np.sum([pos_freq_dict.get(w,0) for w in set(x)]))\n",
        "val_df['neg_freq'] = val_df.processed_tweet.apply(lambda x: np.sum([neg_freq_dict.get(w,0) for w in set(x)]))"
      ],
      "metadata": {
        "id": "snqgRlnfhfcT"
      },
      "execution_count": 17,
      "outputs": []
    },
    {
      "cell_type": "code",
      "source": [
        "train_df.head(6)"
      ],
      "metadata": {
        "colab": {
          "base_uri": "https://localhost:8080/",
          "height": 237
        },
        "id": "QWc5CHyviD-O",
        "outputId": "4dae1662-f90e-4074-8087-dbe73fe5fc00"
      },
      "execution_count": 18,
      "outputs": [
        {
          "output_type": "execute_result",
          "data": {
            "text/plain": [
              "                                           raw_tweet  \\\n",
              "0  Want to say a huge thanks to @WarriorAssaultS ...   \n",
              "1  @jaynehh_ you just need a job and get a letter...   \n",
              "2          @knhillrocks HA yes, make it quick tho :D   \n",
              "3  @shartyboy Thanks for texting me back :)) I'm ...   \n",
              "4  Laying out a greetings card range for print to...   \n",
              "5  #FollowFriday @CCIFCcanada @AdamEvnmnt @boxcal...   \n",
              "\n",
              "                                     processed_tweet  label  pos_freq  \\\n",
              "0   [want, say, huge, thank, ff, thank, support, :)]    1.0    3575.0   \n",
              "1  [need, job, get, letter, work, place, say, wor...    1.0     958.0   \n",
              "2                     [ha, ye, make, quick, tho, :d]    1.0     690.0   \n",
              "3   [thank, text, back, :), i'm, text, tomorrow, :)]    1.0    3650.0   \n",
              "4  [lay, greet, card, rang, print, today, love, j...    1.0     990.0   \n",
              "5  [followfriday, top, engag, member, commun, wee...    1.0    3026.0   \n",
              "\n",
              "   neg_freq  \n",
              "0     358.0  \n",
              "1     464.0  \n",
              "2     144.0  \n",
              "3     512.0  \n",
              "4     240.0  \n",
              "5      58.0  "
            ],
            "text/html": [
              "\n",
              "  <div id=\"df-9f7decbe-15ec-447b-a889-9cfa4fce4d0c\" class=\"colab-df-container\">\n",
              "    <div>\n",
              "<style scoped>\n",
              "    .dataframe tbody tr th:only-of-type {\n",
              "        vertical-align: middle;\n",
              "    }\n",
              "\n",
              "    .dataframe tbody tr th {\n",
              "        vertical-align: top;\n",
              "    }\n",
              "\n",
              "    .dataframe thead th {\n",
              "        text-align: right;\n",
              "    }\n",
              "</style>\n",
              "<table border=\"1\" class=\"dataframe\">\n",
              "  <thead>\n",
              "    <tr style=\"text-align: right;\">\n",
              "      <th></th>\n",
              "      <th>raw_tweet</th>\n",
              "      <th>processed_tweet</th>\n",
              "      <th>label</th>\n",
              "      <th>pos_freq</th>\n",
              "      <th>neg_freq</th>\n",
              "    </tr>\n",
              "  </thead>\n",
              "  <tbody>\n",
              "    <tr>\n",
              "      <th>0</th>\n",
              "      <td>Want to say a huge thanks to @WarriorAssaultS ...</td>\n",
              "      <td>[want, say, huge, thank, ff, thank, support, :)]</td>\n",
              "      <td>1.0</td>\n",
              "      <td>3575.0</td>\n",
              "      <td>358.0</td>\n",
              "    </tr>\n",
              "    <tr>\n",
              "      <th>1</th>\n",
              "      <td>@jaynehh_ you just need a job and get a letter...</td>\n",
              "      <td>[need, job, get, letter, work, place, say, wor...</td>\n",
              "      <td>1.0</td>\n",
              "      <td>958.0</td>\n",
              "      <td>464.0</td>\n",
              "    </tr>\n",
              "    <tr>\n",
              "      <th>2</th>\n",
              "      <td>@knhillrocks HA yes, make it quick tho :D</td>\n",
              "      <td>[ha, ye, make, quick, tho, :d]</td>\n",
              "      <td>1.0</td>\n",
              "      <td>690.0</td>\n",
              "      <td>144.0</td>\n",
              "    </tr>\n",
              "    <tr>\n",
              "      <th>3</th>\n",
              "      <td>@shartyboy Thanks for texting me back :)) I'm ...</td>\n",
              "      <td>[thank, text, back, :), i'm, text, tomorrow, :)]</td>\n",
              "      <td>1.0</td>\n",
              "      <td>3650.0</td>\n",
              "      <td>512.0</td>\n",
              "    </tr>\n",
              "    <tr>\n",
              "      <th>4</th>\n",
              "      <td>Laying out a greetings card range for print to...</td>\n",
              "      <td>[lay, greet, card, rang, print, today, love, j...</td>\n",
              "      <td>1.0</td>\n",
              "      <td>990.0</td>\n",
              "      <td>240.0</td>\n",
              "    </tr>\n",
              "    <tr>\n",
              "      <th>5</th>\n",
              "      <td>#FollowFriday @CCIFCcanada @AdamEvnmnt @boxcal...</td>\n",
              "      <td>[followfriday, top, engag, member, commun, wee...</td>\n",
              "      <td>1.0</td>\n",
              "      <td>3026.0</td>\n",
              "      <td>58.0</td>\n",
              "    </tr>\n",
              "  </tbody>\n",
              "</table>\n",
              "</div>\n",
              "    <div class=\"colab-df-buttons\">\n",
              "\n",
              "  <div class=\"colab-df-container\">\n",
              "    <button class=\"colab-df-convert\" onclick=\"convertToInteractive('df-9f7decbe-15ec-447b-a889-9cfa4fce4d0c')\"\n",
              "            title=\"Convert this dataframe to an interactive table.\"\n",
              "            style=\"display:none;\">\n",
              "\n",
              "  <svg xmlns=\"http://www.w3.org/2000/svg\" height=\"24px\" viewBox=\"0 -960 960 960\">\n",
              "    <path d=\"M120-120v-720h720v720H120Zm60-500h600v-160H180v160Zm220 220h160v-160H400v160Zm0 220h160v-160H400v160ZM180-400h160v-160H180v160Zm440 0h160v-160H620v160ZM180-180h160v-160H180v160Zm440 0h160v-160H620v160Z\"/>\n",
              "  </svg>\n",
              "    </button>\n",
              "\n",
              "  <style>\n",
              "    .colab-df-container {\n",
              "      display:flex;\n",
              "      gap: 12px;\n",
              "    }\n",
              "\n",
              "    .colab-df-convert {\n",
              "      background-color: #E8F0FE;\n",
              "      border: none;\n",
              "      border-radius: 50%;\n",
              "      cursor: pointer;\n",
              "      display: none;\n",
              "      fill: #1967D2;\n",
              "      height: 32px;\n",
              "      padding: 0 0 0 0;\n",
              "      width: 32px;\n",
              "    }\n",
              "\n",
              "    .colab-df-convert:hover {\n",
              "      background-color: #E2EBFA;\n",
              "      box-shadow: 0px 1px 2px rgba(60, 64, 67, 0.3), 0px 1px 3px 1px rgba(60, 64, 67, 0.15);\n",
              "      fill: #174EA6;\n",
              "    }\n",
              "\n",
              "    .colab-df-buttons div {\n",
              "      margin-bottom: 4px;\n",
              "    }\n",
              "\n",
              "    [theme=dark] .colab-df-convert {\n",
              "      background-color: #3B4455;\n",
              "      fill: #D2E3FC;\n",
              "    }\n",
              "\n",
              "    [theme=dark] .colab-df-convert:hover {\n",
              "      background-color: #434B5C;\n",
              "      box-shadow: 0px 1px 3px 1px rgba(0, 0, 0, 0.15);\n",
              "      filter: drop-shadow(0px 1px 2px rgba(0, 0, 0, 0.3));\n",
              "      fill: #FFFFFF;\n",
              "    }\n",
              "  </style>\n",
              "\n",
              "    <script>\n",
              "      const buttonEl =\n",
              "        document.querySelector('#df-9f7decbe-15ec-447b-a889-9cfa4fce4d0c button.colab-df-convert');\n",
              "      buttonEl.style.display =\n",
              "        google.colab.kernel.accessAllowed ? 'block' : 'none';\n",
              "\n",
              "      async function convertToInteractive(key) {\n",
              "        const element = document.querySelector('#df-9f7decbe-15ec-447b-a889-9cfa4fce4d0c');\n",
              "        const dataTable =\n",
              "          await google.colab.kernel.invokeFunction('convertToInteractive',\n",
              "                                                    [key], {});\n",
              "        if (!dataTable) return;\n",
              "\n",
              "        const docLinkHtml = 'Like what you see? Visit the ' +\n",
              "          '<a target=\"_blank\" href=https://colab.research.google.com/notebooks/data_table.ipynb>data table notebook</a>'\n",
              "          + ' to learn more about interactive tables.';\n",
              "        element.innerHTML = '';\n",
              "        dataTable['output_type'] = 'display_data';\n",
              "        await google.colab.output.renderOutput(dataTable, element);\n",
              "        const docLink = document.createElement('div');\n",
              "        docLink.innerHTML = docLinkHtml;\n",
              "        element.appendChild(docLink);\n",
              "      }\n",
              "    </script>\n",
              "  </div>\n",
              "\n",
              "\n",
              "<div id=\"df-88a6b498-df52-40c7-a8ed-3a23cac85314\">\n",
              "  <button class=\"colab-df-quickchart\" onclick=\"quickchart('df-88a6b498-df52-40c7-a8ed-3a23cac85314')\"\n",
              "            title=\"Suggest charts\"\n",
              "            style=\"display:none;\">\n",
              "\n",
              "<svg xmlns=\"http://www.w3.org/2000/svg\" height=\"24px\"viewBox=\"0 0 24 24\"\n",
              "     width=\"24px\">\n",
              "    <g>\n",
              "        <path d=\"M19 3H5c-1.1 0-2 .9-2 2v14c0 1.1.9 2 2 2h14c1.1 0 2-.9 2-2V5c0-1.1-.9-2-2-2zM9 17H7v-7h2v7zm4 0h-2V7h2v10zm4 0h-2v-4h2v4z\"/>\n",
              "    </g>\n",
              "</svg>\n",
              "  </button>\n",
              "\n",
              "<style>\n",
              "  .colab-df-quickchart {\n",
              "      --bg-color: #E8F0FE;\n",
              "      --fill-color: #1967D2;\n",
              "      --hover-bg-color: #E2EBFA;\n",
              "      --hover-fill-color: #174EA6;\n",
              "      --disabled-fill-color: #AAA;\n",
              "      --disabled-bg-color: #DDD;\n",
              "  }\n",
              "\n",
              "  [theme=dark] .colab-df-quickchart {\n",
              "      --bg-color: #3B4455;\n",
              "      --fill-color: #D2E3FC;\n",
              "      --hover-bg-color: #434B5C;\n",
              "      --hover-fill-color: #FFFFFF;\n",
              "      --disabled-bg-color: #3B4455;\n",
              "      --disabled-fill-color: #666;\n",
              "  }\n",
              "\n",
              "  .colab-df-quickchart {\n",
              "    background-color: var(--bg-color);\n",
              "    border: none;\n",
              "    border-radius: 50%;\n",
              "    cursor: pointer;\n",
              "    display: none;\n",
              "    fill: var(--fill-color);\n",
              "    height: 32px;\n",
              "    padding: 0;\n",
              "    width: 32px;\n",
              "  }\n",
              "\n",
              "  .colab-df-quickchart:hover {\n",
              "    background-color: var(--hover-bg-color);\n",
              "    box-shadow: 0 1px 2px rgba(60, 64, 67, 0.3), 0 1px 3px 1px rgba(60, 64, 67, 0.15);\n",
              "    fill: var(--button-hover-fill-color);\n",
              "  }\n",
              "\n",
              "  .colab-df-quickchart-complete:disabled,\n",
              "  .colab-df-quickchart-complete:disabled:hover {\n",
              "    background-color: var(--disabled-bg-color);\n",
              "    fill: var(--disabled-fill-color);\n",
              "    box-shadow: none;\n",
              "  }\n",
              "\n",
              "  .colab-df-spinner {\n",
              "    border: 2px solid var(--fill-color);\n",
              "    border-color: transparent;\n",
              "    border-bottom-color: var(--fill-color);\n",
              "    animation:\n",
              "      spin 1s steps(1) infinite;\n",
              "  }\n",
              "\n",
              "  @keyframes spin {\n",
              "    0% {\n",
              "      border-color: transparent;\n",
              "      border-bottom-color: var(--fill-color);\n",
              "      border-left-color: var(--fill-color);\n",
              "    }\n",
              "    20% {\n",
              "      border-color: transparent;\n",
              "      border-left-color: var(--fill-color);\n",
              "      border-top-color: var(--fill-color);\n",
              "    }\n",
              "    30% {\n",
              "      border-color: transparent;\n",
              "      border-left-color: var(--fill-color);\n",
              "      border-top-color: var(--fill-color);\n",
              "      border-right-color: var(--fill-color);\n",
              "    }\n",
              "    40% {\n",
              "      border-color: transparent;\n",
              "      border-right-color: var(--fill-color);\n",
              "      border-top-color: var(--fill-color);\n",
              "    }\n",
              "    60% {\n",
              "      border-color: transparent;\n",
              "      border-right-color: var(--fill-color);\n",
              "    }\n",
              "    80% {\n",
              "      border-color: transparent;\n",
              "      border-right-color: var(--fill-color);\n",
              "      border-bottom-color: var(--fill-color);\n",
              "    }\n",
              "    90% {\n",
              "      border-color: transparent;\n",
              "      border-bottom-color: var(--fill-color);\n",
              "    }\n",
              "  }\n",
              "</style>\n",
              "\n",
              "  <script>\n",
              "    async function quickchart(key) {\n",
              "      const quickchartButtonEl =\n",
              "        document.querySelector('#' + key + ' button');\n",
              "      quickchartButtonEl.disabled = true;  // To prevent multiple clicks.\n",
              "      quickchartButtonEl.classList.add('colab-df-spinner');\n",
              "      try {\n",
              "        const charts = await google.colab.kernel.invokeFunction(\n",
              "            'suggestCharts', [key], {});\n",
              "      } catch (error) {\n",
              "        console.error('Error during call to suggestCharts:', error);\n",
              "      }\n",
              "      quickchartButtonEl.classList.remove('colab-df-spinner');\n",
              "      quickchartButtonEl.classList.add('colab-df-quickchart-complete');\n",
              "    }\n",
              "    (() => {\n",
              "      let quickchartButtonEl =\n",
              "        document.querySelector('#df-88a6b498-df52-40c7-a8ed-3a23cac85314 button');\n",
              "      quickchartButtonEl.style.display =\n",
              "        google.colab.kernel.accessAllowed ? 'block' : 'none';\n",
              "    })();\n",
              "  </script>\n",
              "</div>\n",
              "\n",
              "    </div>\n",
              "  </div>\n"
            ]
          },
          "metadata": {},
          "execution_count": 18
        }
      ]
    },
    {
      "cell_type": "markdown",
      "source": [
        "## **Naive Bayes**\n",
        "\n",
        "Naive bayes is an algorithm that could be used for sentiment analysis. It takes a short time to train and also has a short prediction time.\n",
        "\n",
        "#### **So how do you train a Naive Bayes classifier?**\n",
        "- The first part of training a naive bayes classifier is to identify the number of classes that you have.\n",
        "- You will create a probability for each class.\n",
        "$P(D_{pos})$ is the probability that the document is positive.\n",
        "$P(D_{neg})$ is the probability that the document is negative.\n",
        "Use the formulas as follows and store the values in a dictionary:\n",
        "\n",
        "$$P(D_{pos}) = \\frac{D_{pos}}{D}\\tag{1}$$\n",
        "\n",
        "$$P(D_{neg}) = \\frac{D_{neg}}{D}\\tag{2}$$\n",
        "\n",
        "Where $D$ is the total number of documents, or tweets in this case, $D_{pos}$ is the total number of positive tweets and $D_{neg}$ is the total number of negative tweets.\n",
        "\n",
        "\n",
        "#### **Prior and Logprior**\n",
        "\n",
        "The prior probability represents the underlying probability in the target population that a tweet is positive versus negative.  In other words, if we had no specific information and blindly picked a tweet out of the population set, what is the probability that it will be positive versus that it will be negative? That is the \"prior\".\n",
        "\n",
        "The prior is the ratio of the probabilities $\\frac{P(D_{pos})}{P(D_{neg})}$.\n",
        "We can take the log of the prior to rescale it, and we'll call this the logprior\n",
        "\n",
        "$$\\text{logprior} = log \\left( \\frac{P(D_{pos})}{P(D_{neg})} \\right) = log \\left( \\frac{D_{pos}}{D_{neg}} \\right)$$.\n",
        "\n",
        "Note that $log(\\frac{A}{B})$ is the same as $log(A) - log(B)$.  So the logprior can also be calculated as the difference between two logs:\n",
        "\n",
        "$$\\text{logprior} = \\log (P(D_{pos})) - \\log (P(D_{neg})) = \\log (D_{pos}) - \\log (D_{neg})\\tag{3}$$\n",
        "\n",
        "\n",
        "#### **Positive and Negative Probability of a Word**\n",
        "To compute the positive probability and the negative probability for a specific word in the vocabulary, we'll use the following inputs:\n",
        "\n",
        "- $freq_{pos}$ and $freq_{neg}$ are the frequencies of that specific word in the positive or negative class. In other words, the positive frequency of a word is the number of times the word is counted with the label of 1.\n",
        "- $N_{pos}$ and $N_{neg}$ are the total number of positive and negative words for all documents (for all tweets), respectively.\n",
        "- $V$ is the number of unique words in the entire set of documents, for all classes, whether positive or negative.\n",
        "\n",
        "We'll use these to compute the positive and negative probability for a specific word using this formula:\n",
        "\n",
        "$$ P(W_{pos}) = \\frac{freq_{pos} + 1}{N_{pos} + V}\\tag{4} $$\n",
        "$$ P(W_{neg}) = \\frac{freq_{neg} + 1}{N_{neg} + V}\\tag{5} $$\n",
        "\n",
        "Notice that we add the \"+1\" in the numerator for additive smoothing.  This [wiki article](https://en.wikipedia.org/wiki/Additive_smoothing) explains more about additive smoothing.\n",
        "\n",
        "\n",
        "#### **Log likelihood**\n",
        "To compute the loglikelihood of that very same word, we can implement the following equations:\n",
        "\n",
        "$$\\text{loglikelihood} = \\log \\left(\\frac{P(W_{pos})}{P(W_{neg})} \\right)\\tag{6}$$"
      ],
      "metadata": {
        "id": "Q7hS24dcjtyb"
      }
    },
    {
      "cell_type": "code",
      "source": [
        "## D_pos: total number of positive tweets, D_neg : total number of negative tweets\n",
        "D_pos = train_df[train_df.label==1].shape[0]\n",
        "D_neg = train_df[train_df.label==0].shape[0]\n",
        "logprior = np.log(D_pos/D_neg)\n",
        "print(f\"Logprior : {logprior}\")"
      ],
      "metadata": {
        "colab": {
          "base_uri": "https://localhost:8080/"
        },
        "id": "tTcKOJW3ifVC",
        "outputId": "e60ffb2c-a7c3-4c1c-c382-07f049f20b46"
      },
      "execution_count": 19,
      "outputs": [
        {
          "output_type": "stream",
          "name": "stdout",
          "text": [
            "Logprior : 0.0\n"
          ]
        }
      ]
    },
    {
      "cell_type": "code",
      "source": [
        "V = len(set(pos_freq_dict.keys()).union(neg_freq_dict.keys()))  ## unique words from pos+neg\n",
        "N_pos = len(pos_freq_dict)\n",
        "N_neg = len(neg_freq_dict)"
      ],
      "metadata": {
        "id": "TlO9scNqlWz5"
      },
      "execution_count": 20,
      "outputs": []
    },
    {
      "cell_type": "code",
      "source": [
        "train_df['pos_prob'] = train_df.pos_freq.apply(lambda x: (x+1)/(N_pos + V))\n",
        "train_df['neg_prob'] = train_df.neg_freq.apply(lambda x: (x+1)/(N_neg + V))\n",
        "train_df['log_likelihood'] = np.log(train_df.pos_prob/train_df.neg_prob)"
      ],
      "metadata": {
        "id": "wl_9zO_imAz_"
      },
      "execution_count": 21,
      "outputs": []
    },
    {
      "cell_type": "code",
      "source": [
        "val_df['pos_prob'] = val_df.pos_freq.apply(lambda x: (x+1)/(len(pos_freq_dict) + V))\n",
        "val_df['neg_prob'] = val_df.neg_freq.apply(lambda x: (x+1)/(len(neg_freq_dict) + V))\n",
        "val_df['log_likelihood'] = np.log(val_df.pos_prob/val_df.neg_prob)"
      ],
      "metadata": {
        "id": "iyDMt4aPmegl"
      },
      "execution_count": 22,
      "outputs": []
    },
    {
      "cell_type": "code",
      "source": [
        "## Add logprior and loglikehood\n",
        "train_df['log_likelihood'] = logprior + train_df['log_likelihood']\n",
        "val_df['log_likelihood'] = logprior + val_df['log_likelihood']"
      ],
      "metadata": {
        "id": "008VGxqxm7EA"
      },
      "execution_count": 23,
      "outputs": []
    },
    {
      "cell_type": "markdown",
      "source": [
        "## Prediction\n",
        "\n",
        "- if log_likelihood>=0 => 1\n",
        "- if log_likelihood<0 => 0"
      ],
      "metadata": {
        "id": "xIlruHDHnuu1"
      }
    },
    {
      "cell_type": "code",
      "source": [
        "train_df['pred_label'] = np.where(train_df.log_likelihood>=0,1,0)\n",
        "val_df['pred_label'] = np.where(val_df.log_likelihood>=0,1,0)"
      ],
      "metadata": {
        "id": "3O8VPzHjnJX3"
      },
      "execution_count": 24,
      "outputs": []
    },
    {
      "cell_type": "markdown",
      "source": [
        "## Accuracy"
      ],
      "metadata": {
        "id": "O5C6sgBNoUrD"
      }
    },
    {
      "cell_type": "code",
      "source": [
        "print(\"Train Accuracy : \", np.sum(train_df.pred_label == train_df.label)/len(train_df))\n",
        "print(\"Val Accuracy : \", np.sum(val_df.pred_label == val_df.label)/len(val_df))"
      ],
      "metadata": {
        "colab": {
          "base_uri": "https://localhost:8080/"
        },
        "id": "lAONl7E3nrBU",
        "outputId": "22289e0e-0060-4ae3-dfaf-20df97708cf1"
      },
      "execution_count": 25,
      "outputs": [
        {
          "output_type": "stream",
          "name": "stdout",
          "text": [
            "Train Accuracy :  0.9920029988754218\n",
            "Val Accuracy :  0.99\n"
          ]
        }
      ]
    },
    {
      "cell_type": "markdown",
      "source": [
        "## Error Analysis"
      ],
      "metadata": {
        "id": "AZ3uPwW22SSu"
      }
    },
    {
      "cell_type": "code",
      "source": [
        "for i, row in train_df[train_df.pred_label != train_df.label].sample(6).iterrows():\n",
        "  print(f\"Raw Tweet : {row['raw_tweet']}\")\n",
        "  print(f\"Processed Tweet : {row['processed_tweet']}\")\n",
        "  print(f\"Label : {row['label']}\")\n",
        "  print(\"\\n\")"
      ],
      "metadata": {
        "colab": {
          "base_uri": "https://localhost:8080/"
        },
        "id": "AtQHnd8_2tWb",
        "outputId": "949832a6-3d08-4c73-9e33-597c3c7c4e08"
      },
      "execution_count": 31,
      "outputs": [
        {
          "output_type": "stream",
          "name": "stdout",
          "text": [
            "Raw Tweet : Get more at http://t.co/aady6CDfB2 :) http://t.co/aXu8Gidwv3\n",
            "Processed Tweet : ['get']\n",
            "Label : 1.0\n",
            "\n",
            "\n",
            "Raw Tweet : http://t.co/FLVKMeaL1i TODAY IN TEE TOURNAMENT!! #EqualityAct GET YOURS FOR ONLY 11$!! :D http://t.co/7lwnbd1KvJ\n",
            "Processed Tweet : []\n",
            "Label : 1.0\n",
            "\n",
            "\n",
            "Raw Tweet : https://t.co/85JGM6Oj6Q new video people, check it out :)\n",
            "Processed Tweet : []\n",
            "Label : 1.0\n",
            "\n",
            "\n",
            "Raw Tweet : @Harbinger1973 you star!! Thank you very much. :)\n",
            "Processed Tweet : []\n",
            "Label : nan\n",
            "\n",
            "\n",
            "Raw Tweet : A brief introduction 2 d earliest history of #Indian subcontinent even bfr Mauryas:\n",
            "http://t.co/NEeqJTkQhy\r:) http://t.co/jKTIjQxYoW\n",
            "Processed Tweet : ['brief', 'introduct', '2', 'earliest', 'histori', 'indian', 'subcontin', 'even', 'bfr', 'maurya']\n",
            "Label : 1.0\n",
            "\n",
            "\n",
            "Raw Tweet : @miabellasesso http://t.co/FtI5vLQJks @SBNation and a few select others.. will get to you :)\n",
            "Processed Tweet : []\n",
            "Label : 1.0\n",
            "\n",
            "\n"
          ]
        }
      ]
    },
    {
      "cell_type": "markdown",
      "source": [
        "## Predict"
      ],
      "metadata": {
        "id": "HwhLNIZv3M5G"
      }
    },
    {
      "cell_type": "code",
      "source": [
        "import re\n",
        "import string\n",
        "import nltk\n",
        "from nltk.stem import PorterStemmer\n",
        "from nltk.tokenize import TweetTokenizer\n",
        "from nltk.corpus import stopwords\n",
        "\n",
        "nltk.download('stopwords')"
      ],
      "metadata": {
        "colab": {
          "base_uri": "https://localhost:8080/"
        },
        "id": "5sXuiEI03twN",
        "outputId": "f9762825-54d9-4329-a7cf-2bbdf81f0830"
      },
      "execution_count": 43,
      "outputs": [
        {
          "output_type": "stream",
          "name": "stderr",
          "text": [
            "[nltk_data] Downloading package stopwords to /root/nltk_data...\n",
            "[nltk_data]   Unzipping corpora/stopwords.zip.\n"
          ]
        },
        {
          "output_type": "execute_result",
          "data": {
            "text/plain": [
              "True"
            ]
          },
          "metadata": {},
          "execution_count": 43
        }
      ]
    },
    {
      "cell_type": "code",
      "source": [
        "def process_tweet(tweet):\n",
        "    \"\"\"Process tweet function.\n",
        "    Input:\n",
        "        tweet: a string containing a tweet\n",
        "    Output:\n",
        "        tweets_clean: a list of words containing the processed tweet\n",
        "\n",
        "    \"\"\"\n",
        "    stemmer = PorterStemmer()\n",
        "    stopwords_english = stopwords.words('english')\n",
        "    # remove stock market tickers like $GE\n",
        "    tweet = re.sub(r'$\\w*', '', tweet)\n",
        "    # remove old style retweet text \"RT\"\n",
        "    tweet = re.sub(r'^RT[\\s]+', '', tweet)\n",
        "    # remove hyperlinks\n",
        "    tweet = re.sub(r'https?:\\/\\/.*[\\r\\n]*', '', tweet)\n",
        "    # remove hashtags\n",
        "    # only removing the hash # sign from the word\n",
        "    tweet = re.sub(r'#', '', tweet)\n",
        "    # tokenize tweets\n",
        "    tokenizer = TweetTokenizer(preserve_case=False, strip_handles=True,reduce_len=True)\n",
        "    tweet_tokens = tokenizer.tokenize(tweet)\n",
        "\n",
        "    tweets_clean = []\n",
        "    for word in tweet_tokens:\n",
        "        if (word not in stopwords_english and  # remove stopwords\n",
        "                word not in string.punctuation):  # remove punctuation\n",
        "            # tweets_clean.append(word)\n",
        "            stem_word = stemmer.stem(word)  # stemming word\n",
        "            tweets_clean.append(stem_word)\n",
        "\n",
        "    return tweets_clean"
      ],
      "metadata": {
        "id": "KDm2KEm23fyL"
      },
      "execution_count": 44,
      "outputs": []
    },
    {
      "cell_type": "code",
      "source": [
        "def predict(tweet):\n",
        "  processed_tweet = process_tweet(tweet)\n",
        "  pos_freq = np.sum([pos_freq_dict.get(w,0) for w in processed_tweet])\n",
        "  neg_freq = np.sum([neg_freq_dict.get(w,0) for w in processed_tweet])\n",
        "\n",
        "  pos_prob = (pos_freq + 1)/(N_pos + V)\n",
        "  neg_prob = (neg_freq + 1)/(N_neg + V)\n",
        "  log_likelihood = np.log(pos_prob/neg_prob)\n",
        "  log_likelihood = logprior + log_likelihood\n",
        "  pred = 1 if log_likelihood>=0 else 0\n",
        "  return pred"
      ],
      "metadata": {
        "id": "kJtjdZwX4KDg"
      },
      "execution_count": 51,
      "outputs": []
    },
    {
      "cell_type": "code",
      "source": [
        "tweet = \"I hate this movies\"\n",
        "print(predict(tweet))"
      ],
      "metadata": {
        "colab": {
          "base_uri": "https://localhost:8080/"
        },
        "id": "q1au0miM2Xq_",
        "outputId": "7493c752-39be-44aa-ea07-974d3b1d4168"
      },
      "execution_count": 53,
      "outputs": [
        {
          "output_type": "stream",
          "name": "stdout",
          "text": [
            "0\n"
          ]
        }
      ]
    },
    {
      "cell_type": "code",
      "source": [
        "tweet = \"I love this movies\"\n",
        "print(predict(tweet))"
      ],
      "metadata": {
        "colab": {
          "base_uri": "https://localhost:8080/"
        },
        "id": "RzJIMxOO4IIx",
        "outputId": "7b3fd6b7-4c17-4d95-fb46-c8f91d1d8ada"
      },
      "execution_count": 54,
      "outputs": [
        {
          "output_type": "stream",
          "name": "stdout",
          "text": [
            "1\n"
          ]
        }
      ]
    },
    {
      "cell_type": "code",
      "source": [],
      "metadata": {
        "id": "pStpjrRf5TIB"
      },
      "execution_count": null,
      "outputs": []
    }
  ]
}