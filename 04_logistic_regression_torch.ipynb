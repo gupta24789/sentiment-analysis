{
  "nbformat": 4,
  "nbformat_minor": 0,
  "metadata": {
    "colab": {
      "provenance": [],
      "authorship_tag": "ABX9TyOOoWn5OIBfAIrvShsLPF8O",
      "include_colab_link": true
    },
    "kernelspec": {
      "name": "python3",
      "display_name": "Python 3"
    },
    "language_info": {
      "name": "python"
    }
  },
  "cells": [
    {
      "cell_type": "markdown",
      "metadata": {
        "id": "view-in-github",
        "colab_type": "text"
      },
      "source": [
        "<a href=\"https://colab.research.google.com/github/gupta24789/sentiment-analysis/blob/main/04_logistic_regression_torch.ipynb\" target=\"_parent\"><img src=\"https://colab.research.google.com/assets/colab-badge.svg\" alt=\"Open In Colab\"/></a>"
      ]
    },
    {
      "cell_type": "code",
      "execution_count": 1,
      "metadata": {
        "id": "-UsjS-3Wejt3"
      },
      "outputs": [],
      "source": [
        "import pandas as pd\n",
        "import numpy as np\n",
        "import itertools\n",
        "from collections import Counter\n",
        "from sklearn.linear_model import LogisticRegression"
      ]
    },
    {
      "cell_type": "markdown",
      "source": [
        "## Read Data"
      ],
      "metadata": {
        "id": "fRh4xuZogdDh"
      }
    },
    {
      "cell_type": "code",
      "source": [
        "train_df = pd.read_csv(\"https://raw.githubusercontent.com/gupta24789/sentiment-analysis/main/data/train.csv\")\n",
        "val_df = pd.read_csv(\"https://raw.githubusercontent.com/gupta24789/sentiment-analysis/main/data/val.csv\")\n",
        "\n",
        "train_df.processed_tweet = train_df.processed_tweet.fillna('[]').apply(lambda x: eval(x) if x is not None else [])\n",
        "val_df.processed_tweet = val_df.processed_tweet.fillna('[]').apply(lambda x: eval(x) if x is not None else [])"
      ],
      "metadata": {
        "id": "K3RmpXrMenY_"
      },
      "execution_count": 2,
      "outputs": []
    },
    {
      "cell_type": "code",
      "source": [
        "train_df.label.value_counts()"
      ],
      "metadata": {
        "colab": {
          "base_uri": "https://localhost:8080/"
        },
        "id": "MReCryM40kSO",
        "outputId": "8085a921-4c10-4406-8e40-f4d0ecccd6b0"
      },
      "execution_count": 3,
      "outputs": [
        {
          "output_type": "execute_result",
          "data": {
            "text/plain": [
              "1.0    4000\n",
              "0.0    4000\n",
              "Name: label, dtype: int64"
            ]
          },
          "metadata": {},
          "execution_count": 3
        }
      ]
    },
    {
      "cell_type": "code",
      "source": [
        "val_df.label.value_counts()"
      ],
      "metadata": {
        "colab": {
          "base_uri": "https://localhost:8080/"
        },
        "id": "UxZiltUJ0mwE",
        "outputId": "437d6a21-9cae-432c-cebb-46639a123b2e"
      },
      "execution_count": 4,
      "outputs": [
        {
          "output_type": "execute_result",
          "data": {
            "text/plain": [
              "1    1000\n",
              "0    1000\n",
              "Name: label, dtype: int64"
            ]
          },
          "metadata": {},
          "execution_count": 4
        }
      ]
    },
    {
      "cell_type": "markdown",
      "source": [
        "## Create Word Freq by label"
      ],
      "metadata": {
        "id": "TiKZkjsogtrP"
      }
    },
    {
      "cell_type": "code",
      "source": [
        "pos_freq_dict = Counter(list(itertools.chain.from_iterable(train_df[train_df.label==1]['processed_tweet'].tolist())))\n",
        "pos_freq_dict.most_common(10)"
      ],
      "metadata": {
        "colab": {
          "base_uri": "https://localhost:8080/"
        },
        "id": "Z0Vth1hmg0MZ",
        "outputId": "b64e3999-a0dc-420a-87d0-ca5af8a46733"
      },
      "execution_count": 5,
      "outputs": [
        {
          "output_type": "execute_result",
          "data": {
            "text/plain": [
              "[(':)', 2866),\n",
              " (':-)', 530),\n",
              " ('thank', 507),\n",
              " (':d', 504),\n",
              " ('love', 322),\n",
              " ('follow', 306),\n",
              " ('...', 221),\n",
              " ('day', 193),\n",
              " ('good', 191),\n",
              " ('like', 186)]"
            ]
          },
          "metadata": {},
          "execution_count": 5
        }
      ]
    },
    {
      "cell_type": "code",
      "source": [
        "neg_freq_dict = Counter(list(itertools.chain.from_iterable(train_df[train_df.label==0]['processed_tweet'].tolist())))\n",
        "neg_freq_dict.most_common(10)"
      ],
      "metadata": {
        "colab": {
          "base_uri": "https://localhost:8080/"
        },
        "id": "k_JMHKFieusj",
        "outputId": "fa582835-1abc-4229-de0b-ccba207d4f20"
      },
      "execution_count": 6,
      "outputs": [
        {
          "output_type": "execute_result",
          "data": {
            "text/plain": [
              "[(':(', 3636),\n",
              " (':-(', 404),\n",
              " (\"i'm\", 293),\n",
              " ('...', 268),\n",
              " ('miss', 242),\n",
              " ('pleas', 219),\n",
              " ('follow', 202),\n",
              " ('want', 192),\n",
              " ('like', 190),\n",
              " ('get', 189)]"
            ]
          },
          "metadata": {},
          "execution_count": 6
        }
      ]
    },
    {
      "cell_type": "markdown",
      "source": [
        "## Create Features\n",
        "\n",
        "- pos_freq : sum of positive freq of all unique words in tweet\n",
        "- neg_freq : sum of negative freq of all unique words in the tweet"
      ],
      "metadata": {
        "id": "eVM7eUiehuKv"
      }
    },
    {
      "cell_type": "code",
      "source": [
        "train_df['pos_freq'] = train_df.processed_tweet.apply(lambda x: np.sum([pos_freq_dict.get(w,0) for w in set(x)]))\n",
        "train_df['neg_freq'] = train_df.processed_tweet.apply(lambda x: np.sum([neg_freq_dict.get(w,0) for w in set(x)]))\n",
        "\n",
        "val_df['pos_freq'] = val_df.processed_tweet.apply(lambda x: np.sum([pos_freq_dict.get(w,0) for w in set(x)]))\n",
        "val_df['neg_freq'] = val_df.processed_tweet.apply(lambda x: np.sum([neg_freq_dict.get(w,0) for w in set(x)]))\n",
        "\n",
        "train_df['bias'] = 1\n",
        "val_df['bias'] = 1"
      ],
      "metadata": {
        "id": "snqgRlnfhfcT"
      },
      "execution_count": 7,
      "outputs": []
    },
    {
      "cell_type": "code",
      "source": [
        "train_df.head(6)"
      ],
      "metadata": {
        "colab": {
          "base_uri": "https://localhost:8080/",
          "height": 237
        },
        "id": "QWc5CHyviD-O",
        "outputId": "de387904-42f9-486b-a41c-e9027e8ab430"
      },
      "execution_count": 8,
      "outputs": [
        {
          "output_type": "execute_result",
          "data": {
            "text/plain": [
              "                                           raw_tweet  \\\n",
              "0  Want to say a huge thanks to @WarriorAssaultS ...   \n",
              "1  @jaynehh_ you just need a job and get a letter...   \n",
              "2          @knhillrocks HA yes, make it quick tho :D   \n",
              "3  @shartyboy Thanks for texting me back :)) I'm ...   \n",
              "4  Laying out a greetings card range for print to...   \n",
              "5  #FollowFriday @CCIFCcanada @AdamEvnmnt @boxcal...   \n",
              "\n",
              "                                     processed_tweet  label  pos_freq  \\\n",
              "0   [want, say, huge, thank, ff, thank, support, :)]    1.0    3575.0   \n",
              "1  [need, job, get, letter, work, place, say, wor...    1.0     958.0   \n",
              "2                     [ha, ye, make, quick, tho, :d]    1.0     690.0   \n",
              "3   [thank, text, back, :), i'm, text, tomorrow, :)]    1.0    3650.0   \n",
              "4  [lay, greet, card, rang, print, today, love, j...    1.0     990.0   \n",
              "5  [followfriday, top, engag, member, commun, wee...    1.0    3026.0   \n",
              "\n",
              "   neg_freq  bias  \n",
              "0     358.0     1  \n",
              "1     464.0     1  \n",
              "2     144.0     1  \n",
              "3     512.0     1  \n",
              "4     240.0     1  \n",
              "5      58.0     1  "
            ],
            "text/html": [
              "\n",
              "  <div id=\"df-410afb04-cc3a-4312-9a9c-abce5faf78c9\" class=\"colab-df-container\">\n",
              "    <div>\n",
              "<style scoped>\n",
              "    .dataframe tbody tr th:only-of-type {\n",
              "        vertical-align: middle;\n",
              "    }\n",
              "\n",
              "    .dataframe tbody tr th {\n",
              "        vertical-align: top;\n",
              "    }\n",
              "\n",
              "    .dataframe thead th {\n",
              "        text-align: right;\n",
              "    }\n",
              "</style>\n",
              "<table border=\"1\" class=\"dataframe\">\n",
              "  <thead>\n",
              "    <tr style=\"text-align: right;\">\n",
              "      <th></th>\n",
              "      <th>raw_tweet</th>\n",
              "      <th>processed_tweet</th>\n",
              "      <th>label</th>\n",
              "      <th>pos_freq</th>\n",
              "      <th>neg_freq</th>\n",
              "      <th>bias</th>\n",
              "    </tr>\n",
              "  </thead>\n",
              "  <tbody>\n",
              "    <tr>\n",
              "      <th>0</th>\n",
              "      <td>Want to say a huge thanks to @WarriorAssaultS ...</td>\n",
              "      <td>[want, say, huge, thank, ff, thank, support, :)]</td>\n",
              "      <td>1.0</td>\n",
              "      <td>3575.0</td>\n",
              "      <td>358.0</td>\n",
              "      <td>1</td>\n",
              "    </tr>\n",
              "    <tr>\n",
              "      <th>1</th>\n",
              "      <td>@jaynehh_ you just need a job and get a letter...</td>\n",
              "      <td>[need, job, get, letter, work, place, say, wor...</td>\n",
              "      <td>1.0</td>\n",
              "      <td>958.0</td>\n",
              "      <td>464.0</td>\n",
              "      <td>1</td>\n",
              "    </tr>\n",
              "    <tr>\n",
              "      <th>2</th>\n",
              "      <td>@knhillrocks HA yes, make it quick tho :D</td>\n",
              "      <td>[ha, ye, make, quick, tho, :d]</td>\n",
              "      <td>1.0</td>\n",
              "      <td>690.0</td>\n",
              "      <td>144.0</td>\n",
              "      <td>1</td>\n",
              "    </tr>\n",
              "    <tr>\n",
              "      <th>3</th>\n",
              "      <td>@shartyboy Thanks for texting me back :)) I'm ...</td>\n",
              "      <td>[thank, text, back, :), i'm, text, tomorrow, :)]</td>\n",
              "      <td>1.0</td>\n",
              "      <td>3650.0</td>\n",
              "      <td>512.0</td>\n",
              "      <td>1</td>\n",
              "    </tr>\n",
              "    <tr>\n",
              "      <th>4</th>\n",
              "      <td>Laying out a greetings card range for print to...</td>\n",
              "      <td>[lay, greet, card, rang, print, today, love, j...</td>\n",
              "      <td>1.0</td>\n",
              "      <td>990.0</td>\n",
              "      <td>240.0</td>\n",
              "      <td>1</td>\n",
              "    </tr>\n",
              "    <tr>\n",
              "      <th>5</th>\n",
              "      <td>#FollowFriday @CCIFCcanada @AdamEvnmnt @boxcal...</td>\n",
              "      <td>[followfriday, top, engag, member, commun, wee...</td>\n",
              "      <td>1.0</td>\n",
              "      <td>3026.0</td>\n",
              "      <td>58.0</td>\n",
              "      <td>1</td>\n",
              "    </tr>\n",
              "  </tbody>\n",
              "</table>\n",
              "</div>\n",
              "    <div class=\"colab-df-buttons\">\n",
              "\n",
              "  <div class=\"colab-df-container\">\n",
              "    <button class=\"colab-df-convert\" onclick=\"convertToInteractive('df-410afb04-cc3a-4312-9a9c-abce5faf78c9')\"\n",
              "            title=\"Convert this dataframe to an interactive table.\"\n",
              "            style=\"display:none;\">\n",
              "\n",
              "  <svg xmlns=\"http://www.w3.org/2000/svg\" height=\"24px\" viewBox=\"0 -960 960 960\">\n",
              "    <path d=\"M120-120v-720h720v720H120Zm60-500h600v-160H180v160Zm220 220h160v-160H400v160Zm0 220h160v-160H400v160ZM180-400h160v-160H180v160Zm440 0h160v-160H620v160ZM180-180h160v-160H180v160Zm440 0h160v-160H620v160Z\"/>\n",
              "  </svg>\n",
              "    </button>\n",
              "\n",
              "  <style>\n",
              "    .colab-df-container {\n",
              "      display:flex;\n",
              "      gap: 12px;\n",
              "    }\n",
              "\n",
              "    .colab-df-convert {\n",
              "      background-color: #E8F0FE;\n",
              "      border: none;\n",
              "      border-radius: 50%;\n",
              "      cursor: pointer;\n",
              "      display: none;\n",
              "      fill: #1967D2;\n",
              "      height: 32px;\n",
              "      padding: 0 0 0 0;\n",
              "      width: 32px;\n",
              "    }\n",
              "\n",
              "    .colab-df-convert:hover {\n",
              "      background-color: #E2EBFA;\n",
              "      box-shadow: 0px 1px 2px rgba(60, 64, 67, 0.3), 0px 1px 3px 1px rgba(60, 64, 67, 0.15);\n",
              "      fill: #174EA6;\n",
              "    }\n",
              "\n",
              "    .colab-df-buttons div {\n",
              "      margin-bottom: 4px;\n",
              "    }\n",
              "\n",
              "    [theme=dark] .colab-df-convert {\n",
              "      background-color: #3B4455;\n",
              "      fill: #D2E3FC;\n",
              "    }\n",
              "\n",
              "    [theme=dark] .colab-df-convert:hover {\n",
              "      background-color: #434B5C;\n",
              "      box-shadow: 0px 1px 3px 1px rgba(0, 0, 0, 0.15);\n",
              "      filter: drop-shadow(0px 1px 2px rgba(0, 0, 0, 0.3));\n",
              "      fill: #FFFFFF;\n",
              "    }\n",
              "  </style>\n",
              "\n",
              "    <script>\n",
              "      const buttonEl =\n",
              "        document.querySelector('#df-410afb04-cc3a-4312-9a9c-abce5faf78c9 button.colab-df-convert');\n",
              "      buttonEl.style.display =\n",
              "        google.colab.kernel.accessAllowed ? 'block' : 'none';\n",
              "\n",
              "      async function convertToInteractive(key) {\n",
              "        const element = document.querySelector('#df-410afb04-cc3a-4312-9a9c-abce5faf78c9');\n",
              "        const dataTable =\n",
              "          await google.colab.kernel.invokeFunction('convertToInteractive',\n",
              "                                                    [key], {});\n",
              "        if (!dataTable) return;\n",
              "\n",
              "        const docLinkHtml = 'Like what you see? Visit the ' +\n",
              "          '<a target=\"_blank\" href=https://colab.research.google.com/notebooks/data_table.ipynb>data table notebook</a>'\n",
              "          + ' to learn more about interactive tables.';\n",
              "        element.innerHTML = '';\n",
              "        dataTable['output_type'] = 'display_data';\n",
              "        await google.colab.output.renderOutput(dataTable, element);\n",
              "        const docLink = document.createElement('div');\n",
              "        docLink.innerHTML = docLinkHtml;\n",
              "        element.appendChild(docLink);\n",
              "      }\n",
              "    </script>\n",
              "  </div>\n",
              "\n",
              "\n",
              "<div id=\"df-6a1a1f79-7106-4f7a-8b9c-f242fe871439\">\n",
              "  <button class=\"colab-df-quickchart\" onclick=\"quickchart('df-6a1a1f79-7106-4f7a-8b9c-f242fe871439')\"\n",
              "            title=\"Suggest charts\"\n",
              "            style=\"display:none;\">\n",
              "\n",
              "<svg xmlns=\"http://www.w3.org/2000/svg\" height=\"24px\"viewBox=\"0 0 24 24\"\n",
              "     width=\"24px\">\n",
              "    <g>\n",
              "        <path d=\"M19 3H5c-1.1 0-2 .9-2 2v14c0 1.1.9 2 2 2h14c1.1 0 2-.9 2-2V5c0-1.1-.9-2-2-2zM9 17H7v-7h2v7zm4 0h-2V7h2v10zm4 0h-2v-4h2v4z\"/>\n",
              "    </g>\n",
              "</svg>\n",
              "  </button>\n",
              "\n",
              "<style>\n",
              "  .colab-df-quickchart {\n",
              "      --bg-color: #E8F0FE;\n",
              "      --fill-color: #1967D2;\n",
              "      --hover-bg-color: #E2EBFA;\n",
              "      --hover-fill-color: #174EA6;\n",
              "      --disabled-fill-color: #AAA;\n",
              "      --disabled-bg-color: #DDD;\n",
              "  }\n",
              "\n",
              "  [theme=dark] .colab-df-quickchart {\n",
              "      --bg-color: #3B4455;\n",
              "      --fill-color: #D2E3FC;\n",
              "      --hover-bg-color: #434B5C;\n",
              "      --hover-fill-color: #FFFFFF;\n",
              "      --disabled-bg-color: #3B4455;\n",
              "      --disabled-fill-color: #666;\n",
              "  }\n",
              "\n",
              "  .colab-df-quickchart {\n",
              "    background-color: var(--bg-color);\n",
              "    border: none;\n",
              "    border-radius: 50%;\n",
              "    cursor: pointer;\n",
              "    display: none;\n",
              "    fill: var(--fill-color);\n",
              "    height: 32px;\n",
              "    padding: 0;\n",
              "    width: 32px;\n",
              "  }\n",
              "\n",
              "  .colab-df-quickchart:hover {\n",
              "    background-color: var(--hover-bg-color);\n",
              "    box-shadow: 0 1px 2px rgba(60, 64, 67, 0.3), 0 1px 3px 1px rgba(60, 64, 67, 0.15);\n",
              "    fill: var(--button-hover-fill-color);\n",
              "  }\n",
              "\n",
              "  .colab-df-quickchart-complete:disabled,\n",
              "  .colab-df-quickchart-complete:disabled:hover {\n",
              "    background-color: var(--disabled-bg-color);\n",
              "    fill: var(--disabled-fill-color);\n",
              "    box-shadow: none;\n",
              "  }\n",
              "\n",
              "  .colab-df-spinner {\n",
              "    border: 2px solid var(--fill-color);\n",
              "    border-color: transparent;\n",
              "    border-bottom-color: var(--fill-color);\n",
              "    animation:\n",
              "      spin 1s steps(1) infinite;\n",
              "  }\n",
              "\n",
              "  @keyframes spin {\n",
              "    0% {\n",
              "      border-color: transparent;\n",
              "      border-bottom-color: var(--fill-color);\n",
              "      border-left-color: var(--fill-color);\n",
              "    }\n",
              "    20% {\n",
              "      border-color: transparent;\n",
              "      border-left-color: var(--fill-color);\n",
              "      border-top-color: var(--fill-color);\n",
              "    }\n",
              "    30% {\n",
              "      border-color: transparent;\n",
              "      border-left-color: var(--fill-color);\n",
              "      border-top-color: var(--fill-color);\n",
              "      border-right-color: var(--fill-color);\n",
              "    }\n",
              "    40% {\n",
              "      border-color: transparent;\n",
              "      border-right-color: var(--fill-color);\n",
              "      border-top-color: var(--fill-color);\n",
              "    }\n",
              "    60% {\n",
              "      border-color: transparent;\n",
              "      border-right-color: var(--fill-color);\n",
              "    }\n",
              "    80% {\n",
              "      border-color: transparent;\n",
              "      border-right-color: var(--fill-color);\n",
              "      border-bottom-color: var(--fill-color);\n",
              "    }\n",
              "    90% {\n",
              "      border-color: transparent;\n",
              "      border-bottom-color: var(--fill-color);\n",
              "    }\n",
              "  }\n",
              "</style>\n",
              "\n",
              "  <script>\n",
              "    async function quickchart(key) {\n",
              "      const quickchartButtonEl =\n",
              "        document.querySelector('#' + key + ' button');\n",
              "      quickchartButtonEl.disabled = true;  // To prevent multiple clicks.\n",
              "      quickchartButtonEl.classList.add('colab-df-spinner');\n",
              "      try {\n",
              "        const charts = await google.colab.kernel.invokeFunction(\n",
              "            'suggestCharts', [key], {});\n",
              "      } catch (error) {\n",
              "        console.error('Error during call to suggestCharts:', error);\n",
              "      }\n",
              "      quickchartButtonEl.classList.remove('colab-df-spinner');\n",
              "      quickchartButtonEl.classList.add('colab-df-quickchart-complete');\n",
              "    }\n",
              "    (() => {\n",
              "      let quickchartButtonEl =\n",
              "        document.querySelector('#df-6a1a1f79-7106-4f7a-8b9c-f242fe871439 button');\n",
              "      quickchartButtonEl.style.display =\n",
              "        google.colab.kernel.accessAllowed ? 'block' : 'none';\n",
              "    })();\n",
              "  </script>\n",
              "</div>\n",
              "\n",
              "    </div>\n",
              "  </div>\n"
            ]
          },
          "metadata": {},
          "execution_count": 8
        }
      ]
    },
    {
      "cell_type": "code",
      "source": [
        "## features  : [bias, pos_freq, neg_freq]\n",
        "\n",
        "train_x = train_df[['bias','pos_freq','neg_freq']].fillna(0).values\n",
        "train_y = train_df.label.fillna(0).values\n",
        "\n",
        "val_x = val_df[['bias','pos_freq','neg_freq']].fillna(0).values\n",
        "val_y = val_df.label.fillna(0).values"
      ],
      "metadata": {
        "id": "noCCBRiOHCQB"
      },
      "execution_count": 9,
      "outputs": []
    },
    {
      "cell_type": "markdown",
      "source": [
        "## Logistic Regression DL Model"
      ],
      "metadata": {
        "id": "VrteW3rlKTFU"
      }
    },
    {
      "cell_type": "code",
      "source": [
        "import warnings\n",
        "import torch\n",
        "import torch.nn as nn\n",
        "import torch.nn.functional as F\n",
        "from torch.optim import Adam\n",
        "from torch.utils.data import Dataset, DataLoader\n",
        "\n",
        "warnings.filterwarnings('ignore')"
      ],
      "metadata": {
        "id": "CU131WOhKSXm"
      },
      "execution_count": 10,
      "outputs": []
    },
    {
      "cell_type": "code",
      "source": [
        "class SentimentDataset(Dataset):\n",
        "\n",
        "  def __init__(self, features, labels):\n",
        "    self.features = features\n",
        "    self.labels = labels\n",
        "\n",
        "  def __getitem__(self, index):\n",
        "    feature = torch.tensor(self.features[index], dtype = torch.float32)\n",
        "    label = F.one_hot(torch.tensor(self.labels[index], dtype = torch.long), num_classes=2)\n",
        "    label = label.float()\n",
        "    return (feature, label)\n",
        "\n",
        "\n",
        "  def __len__(self):\n",
        "    return len(self.features)\n",
        "\n",
        "\n",
        "BATCH_SIZE = 64\n",
        "# train dataset\n",
        "train_ds = SentimentDataset(train_x, train_y)\n",
        "train_dl = DataLoader(train_ds, batch_size = BATCH_SIZE, shuffle = True, num_workers= 2)\n",
        "# val dataloader\n",
        "val_ds = SentimentDataset(val_x, val_y)\n",
        "val_dl = DataLoader(val_ds, batch_size = BATCH_SIZE, shuffle = False, num_workers= 2)"
      ],
      "metadata": {
        "id": "pwT8AEbGKYGo"
      },
      "execution_count": 11,
      "outputs": []
    },
    {
      "cell_type": "code",
      "source": [
        "class SentimentModel(nn.Module):\n",
        "\n",
        "  def __init__(self, in_feature, out_feature):\n",
        "    super(SentimentModel, self).__init__()\n",
        "    hidden_unit = 32\n",
        "    self.fc1 = nn.Linear(in_features= in_feature, out_features= hidden_unit)\n",
        "    self.relu = nn.ReLU()\n",
        "    self.fc2 = nn.Linear(in_features= hidden_unit, out_features= out_feature)\n",
        "    self.log_softmax = nn.LogSoftmax()\n",
        "\n",
        "  def forward(self, x):\n",
        "    out = self.fc1(x)\n",
        "    out = self.relu(out)\n",
        "    out = self.fc2(out)\n",
        "    out = self.log_softmax(out)\n",
        "    return out"
      ],
      "metadata": {
        "id": "zTZ_8RKOLcT0"
      },
      "execution_count": 12,
      "outputs": []
    },
    {
      "cell_type": "code",
      "source": [
        "## example = [feature, label]\n",
        "example = next(iter(train_dl))\n",
        "feature, label = example[0], example[1]\n",
        "print(f\"feature shape : {feature.shape}\")\n",
        "in_feature = feature.shape[1]\n",
        "out_feature = label.shape[1]\n",
        "print(f\"in feature : {in_feature}\")\n",
        "print(f\"out feature : {out_feature}\")"
      ],
      "metadata": {
        "colab": {
          "base_uri": "https://localhost:8080/"
        },
        "id": "iT1YfjADO9EG",
        "outputId": "a2be79d4-9c9c-4442-b4f6-068647ab6ebe"
      },
      "execution_count": 13,
      "outputs": [
        {
          "output_type": "stream",
          "name": "stdout",
          "text": [
            "feature shape : torch.Size([64, 3])\n",
            "in feature : 3\n",
            "out feature : 2\n"
          ]
        }
      ]
    },
    {
      "cell_type": "code",
      "source": [
        "N_EPOCH = 10\n",
        "LEARNING_RATE = 1e-3\n",
        "\n",
        "model = SentimentModel(in_feature, out_feature)\n",
        "optimizer = Adam(model.parameters(), lr = LEARNING_RATE)\n",
        "loss_fn = nn.BCEWithLogitsLoss()"
      ],
      "metadata": {
        "id": "gjcgMTmwMpuz"
      },
      "execution_count": 14,
      "outputs": []
    },
    {
      "cell_type": "code",
      "source": [
        "## Test the architecture and loss function one batch\n",
        "model.eval()\n",
        "logits = model(feature)\n",
        "print(\"logits  : \",logits.shape)\n",
        "print(\"label  : \",label.shape)\n",
        "print(\"Loss : \", loss_fn(logits, label))"
      ],
      "metadata": {
        "colab": {
          "base_uri": "https://localhost:8080/"
        },
        "id": "pR66LwYyNFA7",
        "outputId": "bd14a6f6-6861-42d9-e23e-62f374b76d3f"
      },
      "execution_count": 15,
      "outputs": [
        {
          "output_type": "stream",
          "name": "stdout",
          "text": [
            "logits  :  torch.Size([64, 2])\n",
            "label  :  torch.Size([64, 2])\n",
            "Loss :  tensor(0.3675, grad_fn=<BinaryCrossEntropyWithLogitsBackward0>)\n"
          ]
        }
      ]
    },
    {
      "cell_type": "code",
      "source": [
        "def calculate_accuracy(logits, label):\n",
        "    corrected = 0\n",
        "    values, indices = torch.topk(logits, k = 1)\n",
        "    pred_label = torch.squeeze(indices, dim = 1)\n",
        "    values, indices = torch.topk(label, k = 1)\n",
        "    true_label = torch.squeeze(indices, dim = 1)\n",
        "    corrected += torch.sum(true_label == pred_label).item()\n",
        "    return corrected"
      ],
      "metadata": {
        "id": "gmBHXsDUgA9B"
      },
      "execution_count": 16,
      "outputs": []
    },
    {
      "cell_type": "code",
      "source": [
        "for ep in range(N_EPOCH):\n",
        "\n",
        "  train_loss = 0.0\n",
        "  val_loss = 0.0\n",
        "  train_corrected = 0.0\n",
        "  val_corrected = 0.0\n",
        "  train_samples = 0\n",
        "  val_samples = 0\n",
        "\n",
        "  ## training\n",
        "  model.train()\n",
        "  for feature, label in train_dl:\n",
        "    logits = model(feature)\n",
        "    loss = loss_fn(logits, label)\n",
        "    train_loss += loss.item()\n",
        "    train_corrected += calculate_accuracy(logits, label)\n",
        "    train_samples += len(label)\n",
        "\n",
        "    optimizer.zero_grad()\n",
        "    loss.backward()\n",
        "    optimizer.step()\n",
        "\n",
        "\n",
        "  ## validation\n",
        "  model.eval()\n",
        "  for feature, label in val_dl:\n",
        "    logits = model(feature)\n",
        "    loss = loss_fn(logits, label)\n",
        "    val_loss += loss.item()\n",
        "    val_corrected += calculate_accuracy(logits, label)\n",
        "    val_samples += len(label)\n",
        "\n",
        "  print(f\"Epoch : {ep+1}\\\n",
        "          Train Loss : {train_loss/len(train_dl):.4f}\\\n",
        "          Train Accuracy : {train_corrected/train_samples:.4f}\\\n",
        "          Val Loss : {val_loss/len(val_dl):.4f}\\\n",
        "          Val Accuracy : {val_corrected/val_samples:.4f} \")"
      ],
      "metadata": {
        "colab": {
          "base_uri": "https://localhost:8080/"
        },
        "id": "r4opUUl3Om9Y",
        "outputId": "02b8ac47-16f8-4397-963d-b004863e81ab"
      },
      "execution_count": 17,
      "outputs": [
        {
          "output_type": "stream",
          "name": "stdout",
          "text": [
            "Epoch : 1          Train Loss : 0.4134          Train Accuracy : 0.9891          Val Loss : 0.3669          Val Accuracy : 0.9925 \n",
            "Epoch : 2          Train Loss : 0.4354          Train Accuracy : 0.9908          Val Loss : 0.5239          Val Accuracy : 0.9710 \n",
            "Epoch : 3          Train Loss : 0.4270          Train Accuracy : 0.9920          Val Loss : 0.3646          Val Accuracy : 0.9915 \n",
            "Epoch : 4          Train Loss : 0.4602          Train Accuracy : 0.9843          Val Loss : 0.3950          Val Accuracy : 0.9920 \n",
            "Epoch : 5          Train Loss : 0.4704          Train Accuracy : 0.9930          Val Loss : 0.3961          Val Accuracy : 0.9915 \n",
            "Epoch : 6          Train Loss : 0.4398          Train Accuracy : 0.9931          Val Loss : 0.3843          Val Accuracy : 0.9905 \n",
            "Epoch : 7          Train Loss : 0.4074          Train Accuracy : 0.9926          Val Loss : 0.3706          Val Accuracy : 0.9910 \n",
            "Epoch : 8          Train Loss : 0.4176          Train Accuracy : 0.9870          Val Loss : 0.4548          Val Accuracy : 0.9880 \n",
            "Epoch : 9          Train Loss : 0.4776          Train Accuracy : 0.9935          Val Loss : 0.3848          Val Accuracy : 0.9925 \n",
            "Epoch : 10          Train Loss : 0.4474          Train Accuracy : 0.9929          Val Loss : 0.3733          Val Accuracy : 0.9925 \n"
          ]
        }
      ]
    },
    {
      "cell_type": "markdown",
      "source": [
        "## Accuracy"
      ],
      "metadata": {
        "id": "vM1vzwLuWl8E"
      }
    },
    {
      "cell_type": "code",
      "source": [
        "## test the accuract of one batch\n",
        "model.eval()\n",
        "example = next(iter(train_dl))\n",
        "feature, label = example[0][:3,], example[1][:3,]\n",
        "logits = model(feature)\n",
        "print(\"logits : \", logits)\n",
        "\n",
        "## pred\n",
        "values, indices = torch.topk(logits, k = 1)\n",
        "pred = torch.squeeze(indices, dim = 1)\n",
        "print(f\"values : {values}\")\n",
        "print(f\"indices : {indices}\")\n",
        "print(f\"Pred : {pred}\")\n",
        "\n",
        "## true\n",
        "values, indices = torch.topk(label, k = 1)\n",
        "true = torch.squeeze(indices, dim = 1)\n",
        "print(f\"values : {values}\")\n",
        "print(f\"indices : {indices}\")\n",
        "print(f\"Pred : {true}\")"
      ],
      "metadata": {
        "colab": {
          "base_uri": "https://localhost:8080/"
        },
        "id": "6hXCaCbHc530",
        "outputId": "fe250c5d-cf2e-470b-a357-94ca77d4f6a1"
      },
      "execution_count": 18,
      "outputs": [
        {
          "output_type": "stream",
          "name": "stdout",
          "text": [
            "logits :  tensor([[ -89.2363,    0.0000],\n",
            "        [-330.2580,    0.0000],\n",
            "        [-336.5211,    0.0000]], grad_fn=<LogSoftmaxBackward0>)\n",
            "values : tensor([[0.],\n",
            "        [0.],\n",
            "        [0.]], grad_fn=<TopkBackward0>)\n",
            "indices : tensor([[1],\n",
            "        [1],\n",
            "        [1]])\n",
            "Pred : tensor([1, 1, 1])\n",
            "values : tensor([[1.],\n",
            "        [1.],\n",
            "        [1.]])\n",
            "indices : tensor([[1],\n",
            "        [1],\n",
            "        [1]])\n",
            "Pred : tensor([1, 1, 1])\n"
          ]
        }
      ]
    },
    {
      "cell_type": "markdown",
      "source": [
        "## Predict"
      ],
      "metadata": {
        "id": "bF_Nd50rldye"
      }
    },
    {
      "cell_type": "code",
      "source": [
        "import re\n",
        "import string\n",
        "import nltk\n",
        "from nltk.stem import PorterStemmer\n",
        "from nltk.tokenize import TweetTokenizer\n",
        "from nltk.corpus import stopwords\n",
        "\n",
        "nltk.download('stopwords')"
      ],
      "metadata": {
        "colab": {
          "base_uri": "https://localhost:8080/"
        },
        "id": "QpWCo5HSl-DN",
        "outputId": "fe71e973-e2bf-4dab-e2fc-5b99b648dfbd"
      },
      "execution_count": 19,
      "outputs": [
        {
          "output_type": "stream",
          "name": "stderr",
          "text": [
            "[nltk_data] Downloading package stopwords to /root/nltk_data...\n",
            "[nltk_data]   Unzipping corpora/stopwords.zip.\n"
          ]
        },
        {
          "output_type": "execute_result",
          "data": {
            "text/plain": [
              "True"
            ]
          },
          "metadata": {},
          "execution_count": 19
        }
      ]
    },
    {
      "cell_type": "code",
      "source": [
        "def process_tweet(tweet):\n",
        "    \"\"\"Process tweet function.\n",
        "    Input:\n",
        "        tweet: a string containing a tweet\n",
        "    Output:\n",
        "        tweets_clean: a list of words containing the processed tweet\n",
        "\n",
        "    \"\"\"\n",
        "    stemmer = PorterStemmer()\n",
        "    stopwords_english = stopwords.words('english')\n",
        "    # remove stock market tickers like $GE\n",
        "    tweet = re.sub(r'$\\w*', '', tweet)\n",
        "    # remove old style retweet text \"RT\"\n",
        "    tweet = re.sub(r'^RT[\\s]+', '', tweet)\n",
        "    # remove hyperlinks\n",
        "    tweet = re.sub(r'https?:\\/\\/.*[\\r\\n]*', '', tweet)\n",
        "    # remove hashtags\n",
        "    # only removing the hash # sign from the word\n",
        "    tweet = re.sub(r'#', '', tweet)\n",
        "    # tokenize tweets\n",
        "    tokenizer = TweetTokenizer(preserve_case=False, strip_handles=True,reduce_len=True)\n",
        "    tweet_tokens = tokenizer.tokenize(tweet)\n",
        "\n",
        "    tweets_clean = []\n",
        "    for word in tweet_tokens:\n",
        "        if (word not in stopwords_english and  # remove stopwords\n",
        "                word not in string.punctuation):  # remove punctuation\n",
        "            # tweets_clean.append(word)\n",
        "            stem_word = stemmer.stem(word)  # stemming word\n",
        "            tweets_clean.append(stem_word)\n",
        "\n",
        "    return tweets_clean"
      ],
      "metadata": {
        "id": "UEOJWxQdl9j5"
      },
      "execution_count": 20,
      "outputs": []
    },
    {
      "cell_type": "code",
      "source": [
        "def predict(tweet):\n",
        "  model.eval()\n",
        "  processed_tweet = process_tweet(tweet)\n",
        "  pos_freq = np.sum([pos_freq_dict.get(w,0) for w in processed_tweet])\n",
        "  neg_freq = np.sum([neg_freq_dict.get(w,0) for w in processed_tweet])\n",
        "  row = torch.tensor([[1, pos_freq, neg_freq]], dtype = torch.float32)\n",
        "  logits = model(row)\n",
        "  values, indices = torch.topk(logits, k = 1)\n",
        "  pred = torch.squeeze(indices, dim = 1)\n",
        "  return pred.item()"
      ],
      "metadata": {
        "id": "wvwKw1wyj6N1"
      },
      "execution_count": 21,
      "outputs": []
    },
    {
      "cell_type": "code",
      "source": [
        "tweet = \"I love this movie\"\n",
        "predict(tweet)"
      ],
      "metadata": {
        "colab": {
          "base_uri": "https://localhost:8080/"
        },
        "id": "giwZ_Y2wmIIq",
        "outputId": "0185dc42-4444-47e7-f42d-be636905bd71"
      },
      "execution_count": 22,
      "outputs": [
        {
          "output_type": "execute_result",
          "data": {
            "text/plain": [
              "1"
            ]
          },
          "metadata": {},
          "execution_count": 22
        }
      ]
    },
    {
      "cell_type": "code",
      "source": [
        "tweet = \"I hate this movie\"\n",
        "predict(tweet)"
      ],
      "metadata": {
        "colab": {
          "base_uri": "https://localhost:8080/"
        },
        "id": "KzrT-IW9mPJK",
        "outputId": "ecc98339-9970-40ff-a3f0-895dd32f8759"
      },
      "execution_count": 23,
      "outputs": [
        {
          "output_type": "execute_result",
          "data": {
            "text/plain": [
              "0"
            ]
          },
          "metadata": {},
          "execution_count": 23
        }
      ]
    }
  ]
}